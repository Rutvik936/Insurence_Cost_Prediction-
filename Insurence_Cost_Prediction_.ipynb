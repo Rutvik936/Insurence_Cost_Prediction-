{
  "nbformat": 4,
  "nbformat_minor": 0,
  "metadata": {
    "colab": {
      "provenance": [],
      "collapsed_sections": [
        "UybICCy0P4-S"
      ]
    },
    "kernelspec": {
      "name": "python3",
      "display_name": "Python 3"
    },
    "language_info": {
      "name": "python"
    }
  },
  "cells": [
    {
      "cell_type": "markdown",
      "source": [
        "`Problem Statement`\n",
        "- Insurance companies need to accurately predict the cost of health insurance for individuals to set premiums appropriately. However, traditional methods of cost prediction often rely on broad actuarial tables and historical averages, which may not account for the nuanced differences among individuals. By leveraging machine learning techniques, insurers can predict more accurately the insurance costs tailored to individual profiles, leading to more competitive pricing and better risk management\n"
      ],
      "metadata": {
        "id": "ZOaAGp8vOmzW"
      }
    },
    {
      "cell_type": "markdown",
      "source": [
        "## Dataset Description\n",
        "\n",
        "| Attribute               | Type     | Range/Values         |\n",
        "|--------------------------|----------|----------------------|\n",
        "| Age                      | Numeric  | 18–66                |\n",
        "| Diabetes                 | Binary   | 0 = No, 1 = Yes      |\n",
        "| BloodPressureProblems    | Binary   | 0 = No, 1 = Yes      |\n",
        "| AnyTransplants           | Binary   | 0 = No, 1 = Yes      |\n",
        "| AnyChronicDiseases       | Binary   | 0 = No, 1 = Yes      |\n",
        "| Height                   | Numeric  | 145–188 cm           |\n",
        "| Weight                   | Numeric  | 51–132 kg            |\n",
        "| KnownAllergies           | Binary   | 0 = No, 1 = Yes      |\n",
        "| HistoryOfCancerInFamily  | Binary   | 0 = No, 1 = Yes      |\n",
        "| NumberOfMajorSurgeries   | Numeric  | 0–3                  |\n",
        "| PremiumPrice             | Numeric  | 15,000–40,000        |\n"
      ],
      "metadata": {
        "id": "XIeF8DCrXlFE"
      }
    },
    {
      "cell_type": "code",
      "execution_count": 1,
      "metadata": {
        "id": "LQ98YzY-efh4"
      },
      "outputs": [],
      "source": [
        "import pandas as pd\n",
        "file_id = \"1NBk1TFkK4NeKdodR2DxIdBp2Mk1mh4AS\"\n",
        "df = pd.read_csv(f\"https://drive.google.com/uc?id={file_id}\")"
      ]
    },
    {
      "cell_type": "code",
      "source": [
        "df.head()"
      ],
      "metadata": {
        "colab": {
          "base_uri": "https://localhost:8080/",
          "height": 226
        },
        "id": "TRFvlMyePnoq",
        "outputId": "bca7376e-8aad-409b-a337-dd7b2f6cc12d"
      },
      "execution_count": 2,
      "outputs": [
        {
          "output_type": "execute_result",
          "data": {
            "text/plain": [
              "   Age  Diabetes  BloodPressureProblems  AnyTransplants  AnyChronicDiseases  \\\n",
              "0   45         0                      0               0                   0   \n",
              "1   60         1                      0               0                   0   \n",
              "2   36         1                      1               0                   0   \n",
              "3   52         1                      1               0                   1   \n",
              "4   38         0                      0               0                   1   \n",
              "\n",
              "   Height  Weight  KnownAllergies  HistoryOfCancerInFamily  \\\n",
              "0     155      57               0                        0   \n",
              "1     180      73               0                        0   \n",
              "2     158      59               0                        0   \n",
              "3     183      93               0                        0   \n",
              "4     166      88               0                        0   \n",
              "\n",
              "   NumberOfMajorSurgeries  PremiumPrice  \n",
              "0                       0         25000  \n",
              "1                       0         29000  \n",
              "2                       1         23000  \n",
              "3                       2         28000  \n",
              "4                       1         23000  "
            ],
            "text/html": [
              "\n",
              "  <div id=\"df-6ba2be55-69d9-40d5-a12b-a4ab5baa3ce2\" class=\"colab-df-container\">\n",
              "    <div>\n",
              "<style scoped>\n",
              "    .dataframe tbody tr th:only-of-type {\n",
              "        vertical-align: middle;\n",
              "    }\n",
              "\n",
              "    .dataframe tbody tr th {\n",
              "        vertical-align: top;\n",
              "    }\n",
              "\n",
              "    .dataframe thead th {\n",
              "        text-align: right;\n",
              "    }\n",
              "</style>\n",
              "<table border=\"1\" class=\"dataframe\">\n",
              "  <thead>\n",
              "    <tr style=\"text-align: right;\">\n",
              "      <th></th>\n",
              "      <th>Age</th>\n",
              "      <th>Diabetes</th>\n",
              "      <th>BloodPressureProblems</th>\n",
              "      <th>AnyTransplants</th>\n",
              "      <th>AnyChronicDiseases</th>\n",
              "      <th>Height</th>\n",
              "      <th>Weight</th>\n",
              "      <th>KnownAllergies</th>\n",
              "      <th>HistoryOfCancerInFamily</th>\n",
              "      <th>NumberOfMajorSurgeries</th>\n",
              "      <th>PremiumPrice</th>\n",
              "    </tr>\n",
              "  </thead>\n",
              "  <tbody>\n",
              "    <tr>\n",
              "      <th>0</th>\n",
              "      <td>45</td>\n",
              "      <td>0</td>\n",
              "      <td>0</td>\n",
              "      <td>0</td>\n",
              "      <td>0</td>\n",
              "      <td>155</td>\n",
              "      <td>57</td>\n",
              "      <td>0</td>\n",
              "      <td>0</td>\n",
              "      <td>0</td>\n",
              "      <td>25000</td>\n",
              "    </tr>\n",
              "    <tr>\n",
              "      <th>1</th>\n",
              "      <td>60</td>\n",
              "      <td>1</td>\n",
              "      <td>0</td>\n",
              "      <td>0</td>\n",
              "      <td>0</td>\n",
              "      <td>180</td>\n",
              "      <td>73</td>\n",
              "      <td>0</td>\n",
              "      <td>0</td>\n",
              "      <td>0</td>\n",
              "      <td>29000</td>\n",
              "    </tr>\n",
              "    <tr>\n",
              "      <th>2</th>\n",
              "      <td>36</td>\n",
              "      <td>1</td>\n",
              "      <td>1</td>\n",
              "      <td>0</td>\n",
              "      <td>0</td>\n",
              "      <td>158</td>\n",
              "      <td>59</td>\n",
              "      <td>0</td>\n",
              "      <td>0</td>\n",
              "      <td>1</td>\n",
              "      <td>23000</td>\n",
              "    </tr>\n",
              "    <tr>\n",
              "      <th>3</th>\n",
              "      <td>52</td>\n",
              "      <td>1</td>\n",
              "      <td>1</td>\n",
              "      <td>0</td>\n",
              "      <td>1</td>\n",
              "      <td>183</td>\n",
              "      <td>93</td>\n",
              "      <td>0</td>\n",
              "      <td>0</td>\n",
              "      <td>2</td>\n",
              "      <td>28000</td>\n",
              "    </tr>\n",
              "    <tr>\n",
              "      <th>4</th>\n",
              "      <td>38</td>\n",
              "      <td>0</td>\n",
              "      <td>0</td>\n",
              "      <td>0</td>\n",
              "      <td>1</td>\n",
              "      <td>166</td>\n",
              "      <td>88</td>\n",
              "      <td>0</td>\n",
              "      <td>0</td>\n",
              "      <td>1</td>\n",
              "      <td>23000</td>\n",
              "    </tr>\n",
              "  </tbody>\n",
              "</table>\n",
              "</div>\n",
              "    <div class=\"colab-df-buttons\">\n",
              "\n",
              "  <div class=\"colab-df-container\">\n",
              "    <button class=\"colab-df-convert\" onclick=\"convertToInteractive('df-6ba2be55-69d9-40d5-a12b-a4ab5baa3ce2')\"\n",
              "            title=\"Convert this dataframe to an interactive table.\"\n",
              "            style=\"display:none;\">\n",
              "\n",
              "  <svg xmlns=\"http://www.w3.org/2000/svg\" height=\"24px\" viewBox=\"0 -960 960 960\">\n",
              "    <path d=\"M120-120v-720h720v720H120Zm60-500h600v-160H180v160Zm220 220h160v-160H400v160Zm0 220h160v-160H400v160ZM180-400h160v-160H180v160Zm440 0h160v-160H620v160ZM180-180h160v-160H180v160Zm440 0h160v-160H620v160Z\"/>\n",
              "  </svg>\n",
              "    </button>\n",
              "\n",
              "  <style>\n",
              "    .colab-df-container {\n",
              "      display:flex;\n",
              "      gap: 12px;\n",
              "    }\n",
              "\n",
              "    .colab-df-convert {\n",
              "      background-color: #E8F0FE;\n",
              "      border: none;\n",
              "      border-radius: 50%;\n",
              "      cursor: pointer;\n",
              "      display: none;\n",
              "      fill: #1967D2;\n",
              "      height: 32px;\n",
              "      padding: 0 0 0 0;\n",
              "      width: 32px;\n",
              "    }\n",
              "\n",
              "    .colab-df-convert:hover {\n",
              "      background-color: #E2EBFA;\n",
              "      box-shadow: 0px 1px 2px rgba(60, 64, 67, 0.3), 0px 1px 3px 1px rgba(60, 64, 67, 0.15);\n",
              "      fill: #174EA6;\n",
              "    }\n",
              "\n",
              "    .colab-df-buttons div {\n",
              "      margin-bottom: 4px;\n",
              "    }\n",
              "\n",
              "    [theme=dark] .colab-df-convert {\n",
              "      background-color: #3B4455;\n",
              "      fill: #D2E3FC;\n",
              "    }\n",
              "\n",
              "    [theme=dark] .colab-df-convert:hover {\n",
              "      background-color: #434B5C;\n",
              "      box-shadow: 0px 1px 3px 1px rgba(0, 0, 0, 0.15);\n",
              "      filter: drop-shadow(0px 1px 2px rgba(0, 0, 0, 0.3));\n",
              "      fill: #FFFFFF;\n",
              "    }\n",
              "  </style>\n",
              "\n",
              "    <script>\n",
              "      const buttonEl =\n",
              "        document.querySelector('#df-6ba2be55-69d9-40d5-a12b-a4ab5baa3ce2 button.colab-df-convert');\n",
              "      buttonEl.style.display =\n",
              "        google.colab.kernel.accessAllowed ? 'block' : 'none';\n",
              "\n",
              "      async function convertToInteractive(key) {\n",
              "        const element = document.querySelector('#df-6ba2be55-69d9-40d5-a12b-a4ab5baa3ce2');\n",
              "        const dataTable =\n",
              "          await google.colab.kernel.invokeFunction('convertToInteractive',\n",
              "                                                    [key], {});\n",
              "        if (!dataTable) return;\n",
              "\n",
              "        const docLinkHtml = 'Like what you see? Visit the ' +\n",
              "          '<a target=\"_blank\" href=https://colab.research.google.com/notebooks/data_table.ipynb>data table notebook</a>'\n",
              "          + ' to learn more about interactive tables.';\n",
              "        element.innerHTML = '';\n",
              "        dataTable['output_type'] = 'display_data';\n",
              "        await google.colab.output.renderOutput(dataTable, element);\n",
              "        const docLink = document.createElement('div');\n",
              "        docLink.innerHTML = docLinkHtml;\n",
              "        element.appendChild(docLink);\n",
              "      }\n",
              "    </script>\n",
              "  </div>\n",
              "\n",
              "\n",
              "    <div id=\"df-1e9436ce-1046-4f1b-9213-f00d8c92ba75\">\n",
              "      <button class=\"colab-df-quickchart\" onclick=\"quickchart('df-1e9436ce-1046-4f1b-9213-f00d8c92ba75')\"\n",
              "                title=\"Suggest charts\"\n",
              "                style=\"display:none;\">\n",
              "\n",
              "<svg xmlns=\"http://www.w3.org/2000/svg\" height=\"24px\"viewBox=\"0 0 24 24\"\n",
              "     width=\"24px\">\n",
              "    <g>\n",
              "        <path d=\"M19 3H5c-1.1 0-2 .9-2 2v14c0 1.1.9 2 2 2h14c1.1 0 2-.9 2-2V5c0-1.1-.9-2-2-2zM9 17H7v-7h2v7zm4 0h-2V7h2v10zm4 0h-2v-4h2v4z\"/>\n",
              "    </g>\n",
              "</svg>\n",
              "      </button>\n",
              "\n",
              "<style>\n",
              "  .colab-df-quickchart {\n",
              "      --bg-color: #E8F0FE;\n",
              "      --fill-color: #1967D2;\n",
              "      --hover-bg-color: #E2EBFA;\n",
              "      --hover-fill-color: #174EA6;\n",
              "      --disabled-fill-color: #AAA;\n",
              "      --disabled-bg-color: #DDD;\n",
              "  }\n",
              "\n",
              "  [theme=dark] .colab-df-quickchart {\n",
              "      --bg-color: #3B4455;\n",
              "      --fill-color: #D2E3FC;\n",
              "      --hover-bg-color: #434B5C;\n",
              "      --hover-fill-color: #FFFFFF;\n",
              "      --disabled-bg-color: #3B4455;\n",
              "      --disabled-fill-color: #666;\n",
              "  }\n",
              "\n",
              "  .colab-df-quickchart {\n",
              "    background-color: var(--bg-color);\n",
              "    border: none;\n",
              "    border-radius: 50%;\n",
              "    cursor: pointer;\n",
              "    display: none;\n",
              "    fill: var(--fill-color);\n",
              "    height: 32px;\n",
              "    padding: 0;\n",
              "    width: 32px;\n",
              "  }\n",
              "\n",
              "  .colab-df-quickchart:hover {\n",
              "    background-color: var(--hover-bg-color);\n",
              "    box-shadow: 0 1px 2px rgba(60, 64, 67, 0.3), 0 1px 3px 1px rgba(60, 64, 67, 0.15);\n",
              "    fill: var(--button-hover-fill-color);\n",
              "  }\n",
              "\n",
              "  .colab-df-quickchart-complete:disabled,\n",
              "  .colab-df-quickchart-complete:disabled:hover {\n",
              "    background-color: var(--disabled-bg-color);\n",
              "    fill: var(--disabled-fill-color);\n",
              "    box-shadow: none;\n",
              "  }\n",
              "\n",
              "  .colab-df-spinner {\n",
              "    border: 2px solid var(--fill-color);\n",
              "    border-color: transparent;\n",
              "    border-bottom-color: var(--fill-color);\n",
              "    animation:\n",
              "      spin 1s steps(1) infinite;\n",
              "  }\n",
              "\n",
              "  @keyframes spin {\n",
              "    0% {\n",
              "      border-color: transparent;\n",
              "      border-bottom-color: var(--fill-color);\n",
              "      border-left-color: var(--fill-color);\n",
              "    }\n",
              "    20% {\n",
              "      border-color: transparent;\n",
              "      border-left-color: var(--fill-color);\n",
              "      border-top-color: var(--fill-color);\n",
              "    }\n",
              "    30% {\n",
              "      border-color: transparent;\n",
              "      border-left-color: var(--fill-color);\n",
              "      border-top-color: var(--fill-color);\n",
              "      border-right-color: var(--fill-color);\n",
              "    }\n",
              "    40% {\n",
              "      border-color: transparent;\n",
              "      border-right-color: var(--fill-color);\n",
              "      border-top-color: var(--fill-color);\n",
              "    }\n",
              "    60% {\n",
              "      border-color: transparent;\n",
              "      border-right-color: var(--fill-color);\n",
              "    }\n",
              "    80% {\n",
              "      border-color: transparent;\n",
              "      border-right-color: var(--fill-color);\n",
              "      border-bottom-color: var(--fill-color);\n",
              "    }\n",
              "    90% {\n",
              "      border-color: transparent;\n",
              "      border-bottom-color: var(--fill-color);\n",
              "    }\n",
              "  }\n",
              "</style>\n",
              "\n",
              "      <script>\n",
              "        async function quickchart(key) {\n",
              "          const quickchartButtonEl =\n",
              "            document.querySelector('#' + key + ' button');\n",
              "          quickchartButtonEl.disabled = true;  // To prevent multiple clicks.\n",
              "          quickchartButtonEl.classList.add('colab-df-spinner');\n",
              "          try {\n",
              "            const charts = await google.colab.kernel.invokeFunction(\n",
              "                'suggestCharts', [key], {});\n",
              "          } catch (error) {\n",
              "            console.error('Error during call to suggestCharts:', error);\n",
              "          }\n",
              "          quickchartButtonEl.classList.remove('colab-df-spinner');\n",
              "          quickchartButtonEl.classList.add('colab-df-quickchart-complete');\n",
              "        }\n",
              "        (() => {\n",
              "          let quickchartButtonEl =\n",
              "            document.querySelector('#df-1e9436ce-1046-4f1b-9213-f00d8c92ba75 button');\n",
              "          quickchartButtonEl.style.display =\n",
              "            google.colab.kernel.accessAllowed ? 'block' : 'none';\n",
              "        })();\n",
              "      </script>\n",
              "    </div>\n",
              "\n",
              "    </div>\n",
              "  </div>\n"
            ],
            "application/vnd.google.colaboratory.intrinsic+json": {
              "type": "dataframe",
              "variable_name": "df",
              "summary": "{\n  \"name\": \"df\",\n  \"rows\": 986,\n  \"fields\": [\n    {\n      \"column\": \"Age\",\n      \"properties\": {\n        \"dtype\": \"number\",\n        \"std\": 13,\n        \"min\": 18,\n        \"max\": 66,\n        \"num_unique_values\": 49,\n        \"samples\": [\n          42,\n          51,\n          62\n        ],\n        \"semantic_type\": \"\",\n        \"description\": \"\"\n      }\n    },\n    {\n      \"column\": \"Diabetes\",\n      \"properties\": {\n        \"dtype\": \"number\",\n        \"std\": 0,\n        \"min\": 0,\n        \"max\": 1,\n        \"num_unique_values\": 2,\n        \"samples\": [\n          1,\n          0\n        ],\n        \"semantic_type\": \"\",\n        \"description\": \"\"\n      }\n    },\n    {\n      \"column\": \"BloodPressureProblems\",\n      \"properties\": {\n        \"dtype\": \"number\",\n        \"std\": 0,\n        \"min\": 0,\n        \"max\": 1,\n        \"num_unique_values\": 2,\n        \"samples\": [\n          1,\n          0\n        ],\n        \"semantic_type\": \"\",\n        \"description\": \"\"\n      }\n    },\n    {\n      \"column\": \"AnyTransplants\",\n      \"properties\": {\n        \"dtype\": \"number\",\n        \"std\": 0,\n        \"min\": 0,\n        \"max\": 1,\n        \"num_unique_values\": 2,\n        \"samples\": [\n          1,\n          0\n        ],\n        \"semantic_type\": \"\",\n        \"description\": \"\"\n      }\n    },\n    {\n      \"column\": \"AnyChronicDiseases\",\n      \"properties\": {\n        \"dtype\": \"number\",\n        \"std\": 0,\n        \"min\": 0,\n        \"max\": 1,\n        \"num_unique_values\": 2,\n        \"samples\": [\n          1,\n          0\n        ],\n        \"semantic_type\": \"\",\n        \"description\": \"\"\n      }\n    },\n    {\n      \"column\": \"Height\",\n      \"properties\": {\n        \"dtype\": \"number\",\n        \"std\": 10,\n        \"min\": 145,\n        \"max\": 188,\n        \"num_unique_values\": 44,\n        \"samples\": [\n          167,\n          161\n        ],\n        \"semantic_type\": \"\",\n        \"description\": \"\"\n      }\n    },\n    {\n      \"column\": \"Weight\",\n      \"properties\": {\n        \"dtype\": \"number\",\n        \"std\": 14,\n        \"min\": 51,\n        \"max\": 132,\n        \"num_unique_values\": 74,\n        \"samples\": [\n          88,\n          123\n        ],\n        \"semantic_type\": \"\",\n        \"description\": \"\"\n      }\n    },\n    {\n      \"column\": \"KnownAllergies\",\n      \"properties\": {\n        \"dtype\": \"number\",\n        \"std\": 0,\n        \"min\": 0,\n        \"max\": 1,\n        \"num_unique_values\": 2,\n        \"samples\": [\n          1,\n          0\n        ],\n        \"semantic_type\": \"\",\n        \"description\": \"\"\n      }\n    },\n    {\n      \"column\": \"HistoryOfCancerInFamily\",\n      \"properties\": {\n        \"dtype\": \"number\",\n        \"std\": 0,\n        \"min\": 0,\n        \"max\": 1,\n        \"num_unique_values\": 2,\n        \"samples\": [\n          1,\n          0\n        ],\n        \"semantic_type\": \"\",\n        \"description\": \"\"\n      }\n    },\n    {\n      \"column\": \"NumberOfMajorSurgeries\",\n      \"properties\": {\n        \"dtype\": \"number\",\n        \"std\": 0,\n        \"min\": 0,\n        \"max\": 3,\n        \"num_unique_values\": 4,\n        \"samples\": [\n          1,\n          3\n        ],\n        \"semantic_type\": \"\",\n        \"description\": \"\"\n      }\n    },\n    {\n      \"column\": \"PremiumPrice\",\n      \"properties\": {\n        \"dtype\": \"number\",\n        \"std\": 6248,\n        \"min\": 15000,\n        \"max\": 40000,\n        \"num_unique_values\": 24,\n        \"samples\": [\n          32000,\n          40000\n        ],\n        \"semantic_type\": \"\",\n        \"description\": \"\"\n      }\n    }\n  ]\n}"
            }
          },
          "metadata": {},
          "execution_count": 2
        }
      ]
    },
    {
      "cell_type": "code",
      "source": [
        "df.info()"
      ],
      "metadata": {
        "colab": {
          "base_uri": "https://localhost:8080/"
        },
        "id": "ROLyrPguPrus",
        "outputId": "291597ee-bb39-484b-80ba-f69146c9fb79"
      },
      "execution_count": 3,
      "outputs": [
        {
          "output_type": "stream",
          "name": "stdout",
          "text": [
            "<class 'pandas.core.frame.DataFrame'>\n",
            "RangeIndex: 986 entries, 0 to 985\n",
            "Data columns (total 11 columns):\n",
            " #   Column                   Non-Null Count  Dtype\n",
            "---  ------                   --------------  -----\n",
            " 0   Age                      986 non-null    int64\n",
            " 1   Diabetes                 986 non-null    int64\n",
            " 2   BloodPressureProblems    986 non-null    int64\n",
            " 3   AnyTransplants           986 non-null    int64\n",
            " 4   AnyChronicDiseases       986 non-null    int64\n",
            " 5   Height                   986 non-null    int64\n",
            " 6   Weight                   986 non-null    int64\n",
            " 7   KnownAllergies           986 non-null    int64\n",
            " 8   HistoryOfCancerInFamily  986 non-null    int64\n",
            " 9   NumberOfMajorSurgeries   986 non-null    int64\n",
            " 10  PremiumPrice             986 non-null    int64\n",
            "dtypes: int64(11)\n",
            "memory usage: 84.9 KB\n"
          ]
        }
      ]
    },
    {
      "cell_type": "code",
      "source": [
        "df.shape"
      ],
      "metadata": {
        "colab": {
          "base_uri": "https://localhost:8080/"
        },
        "id": "9n3MLNNpPupd",
        "outputId": "7457023b-a5e6-42a4-8b0a-c32f3f4e1f29"
      },
      "execution_count": 4,
      "outputs": [
        {
          "output_type": "execute_result",
          "data": {
            "text/plain": [
              "(986, 11)"
            ]
          },
          "metadata": {},
          "execution_count": 4
        }
      ]
    },
    {
      "cell_type": "code",
      "source": [
        "df.isna().sum()"
      ],
      "metadata": {
        "colab": {
          "base_uri": "https://localhost:8080/",
          "height": 429
        },
        "id": "0_AQfeAJPw7b",
        "outputId": "866273b6-2dee-4b94-92fd-340da6a26bdf"
      },
      "execution_count": 5,
      "outputs": [
        {
          "output_type": "execute_result",
          "data": {
            "text/plain": [
              "Age                        0\n",
              "Diabetes                   0\n",
              "BloodPressureProblems      0\n",
              "AnyTransplants             0\n",
              "AnyChronicDiseases         0\n",
              "Height                     0\n",
              "Weight                     0\n",
              "KnownAllergies             0\n",
              "HistoryOfCancerInFamily    0\n",
              "NumberOfMajorSurgeries     0\n",
              "PremiumPrice               0\n",
              "dtype: int64"
            ],
            "text/html": [
              "<div>\n",
              "<style scoped>\n",
              "    .dataframe tbody tr th:only-of-type {\n",
              "        vertical-align: middle;\n",
              "    }\n",
              "\n",
              "    .dataframe tbody tr th {\n",
              "        vertical-align: top;\n",
              "    }\n",
              "\n",
              "    .dataframe thead th {\n",
              "        text-align: right;\n",
              "    }\n",
              "</style>\n",
              "<table border=\"1\" class=\"dataframe\">\n",
              "  <thead>\n",
              "    <tr style=\"text-align: right;\">\n",
              "      <th></th>\n",
              "      <th>0</th>\n",
              "    </tr>\n",
              "  </thead>\n",
              "  <tbody>\n",
              "    <tr>\n",
              "      <th>Age</th>\n",
              "      <td>0</td>\n",
              "    </tr>\n",
              "    <tr>\n",
              "      <th>Diabetes</th>\n",
              "      <td>0</td>\n",
              "    </tr>\n",
              "    <tr>\n",
              "      <th>BloodPressureProblems</th>\n",
              "      <td>0</td>\n",
              "    </tr>\n",
              "    <tr>\n",
              "      <th>AnyTransplants</th>\n",
              "      <td>0</td>\n",
              "    </tr>\n",
              "    <tr>\n",
              "      <th>AnyChronicDiseases</th>\n",
              "      <td>0</td>\n",
              "    </tr>\n",
              "    <tr>\n",
              "      <th>Height</th>\n",
              "      <td>0</td>\n",
              "    </tr>\n",
              "    <tr>\n",
              "      <th>Weight</th>\n",
              "      <td>0</td>\n",
              "    </tr>\n",
              "    <tr>\n",
              "      <th>KnownAllergies</th>\n",
              "      <td>0</td>\n",
              "    </tr>\n",
              "    <tr>\n",
              "      <th>HistoryOfCancerInFamily</th>\n",
              "      <td>0</td>\n",
              "    </tr>\n",
              "    <tr>\n",
              "      <th>NumberOfMajorSurgeries</th>\n",
              "      <td>0</td>\n",
              "    </tr>\n",
              "    <tr>\n",
              "      <th>PremiumPrice</th>\n",
              "      <td>0</td>\n",
              "    </tr>\n",
              "  </tbody>\n",
              "</table>\n",
              "</div><br><label><b>dtype:</b> int64</label>"
            ]
          },
          "metadata": {},
          "execution_count": 5
        }
      ]
    },
    {
      "cell_type": "markdown",
      "source": [
        "# Univariate Anaysis"
      ],
      "metadata": {
        "id": "UybICCy0P4-S"
      }
    },
    {
      "cell_type": "markdown",
      "source": [
        "#### For `Age`"
      ],
      "metadata": {
        "id": "2qjlPPnhQhNm"
      }
    },
    {
      "cell_type": "code",
      "source": [
        "import seaborn as sns"
      ],
      "metadata": {
        "id": "mk4x0r9ZQse4"
      },
      "execution_count": 6,
      "outputs": []
    },
    {
      "cell_type": "code",
      "source": [
        "df['Age_bin'] = pd.cut(\n",
        "    df['Age'],\n",
        "    bins=[0,18,30,40,50,60,70],\n",
        "    labels=['0-18','19-30','31-40','41-50','51-60','61-70']\n",
        ")\n",
        "\n",
        "\n",
        "age_counts = df['Age_bin'].value_counts().sort_index()\n",
        "\n",
        "sns.barplot(x=age_counts.index, y=age_counts.values)\n"
      ],
      "metadata": {
        "colab": {
          "base_uri": "https://localhost:8080/",
          "height": 0
        },
        "id": "W88YNJLRP3vu",
        "outputId": "cf9b838d-5262-44eb-b203-0886e50b201f"
      },
      "execution_count": 7,
      "outputs": [
        {
          "output_type": "execute_result",
          "data": {
            "text/plain": [
              "<Axes: xlabel='Age_bin'>"
            ]
          },
          "metadata": {},
          "execution_count": 7
        },
        {
          "output_type": "display_data",
          "data": {
            "text/plain": [
              "<Figure size 640x480 with 1 Axes>"
            ],
            "image/png": "[encoded data removed]"
          },
          "metadata": {}
        }
      ]
    },
    {
      "cell_type": "markdown",
      "source": [
        "#### For `Diabetes`"
      ],
      "metadata": {
        "id": "TAFCvyVsTdD-"
      }
    },
    {
      "cell_type": "code",
      "source": [
        "import matplotlib.pyplot as plt"
      ],
      "metadata": {
        "id": "ry7bMobScWQA"
      },
      "execution_count": 8,
      "outputs": []
    },
    {
      "cell_type": "code",
      "source": [
        "def bar(col):\n",
        "    x = df[col].value_counts().reset_index()\n",
        "    x.columns = [col, 'Count']\n",
        "    sns.barplot(data=x, x=col, y='Count')\n",
        "    return df[col].value_counts()\n",
        "bar('Diabetes')"
      ],
      "metadata": {
        "colab": {
          "base_uri": "https://localhost:8080/",
          "height": 0
        },
        "id": "wyPXNb0JTiRb",
        "outputId": "9948de9f-c439-4a4d-9778-2c970c300dec"
      },
      "execution_count": 9,
      "outputs": [
        {
          "output_type": "execute_result",
          "data": {
            "text/plain": [
              "Diabetes\n",
              "0    572\n",
              "1    414\n",
              "Name: count, dtype: int64"
            ],
            "text/html": [
              "<div>\n",
              "<style scoped>\n",
              "    .dataframe tbody tr th:only-of-type {\n",
              "        vertical-align: middle;\n",
              "    }\n",
              "\n",
              "    .dataframe tbody tr th {\n",
              "        vertical-align: top;\n",
              "    }\n",
              "\n",
              "    .dataframe thead th {\n",
              "        text-align: right;\n",
              "    }\n",
              "</style>\n",
              "<table border=\"1\" class=\"dataframe\">\n",
              "  <thead>\n",
              "    <tr style=\"text-align: right;\">\n",
              "      <th></th>\n",
              "      <th>count</th>\n",
              "    </tr>\n",
              "    <tr>\n",
              "      <th>Diabetes</th>\n",
              "      <th></th>\n",
              "    </tr>\n",
              "  </thead>\n",
              "  <tbody>\n",
              "    <tr>\n",
              "      <th>0</th>\n",
              "      <td>572</td>\n",
              "    </tr>\n",
              "    <tr>\n",
              "      <th>1</th>\n",
              "      <td>414</td>\n",
              "    </tr>\n",
              "  </tbody>\n",
              "</table>\n",
              "</div><br><label><b>dtype:</b> int64</label>"
            ]
          },
          "metadata": {},
          "execution_count": 9
        },
        {
          "output_type": "display_data",
          "data": {
            "text/plain": [
              "<Figure size 640x480 with 1 Axes>"
            ],
            "image/png": "[encoded data removed]"
          },
          "metadata": {}
        }
      ]
    },
    {
      "cell_type": "markdown",
      "source": [
        "#### For `BloodPressureProblems`"
      ],
      "metadata": {
        "id": "yRGXMWhIYEFb"
      }
    },
    {
      "cell_type": "code",
      "source": [
        "bar('BloodPressureProblems')"
      ],
      "metadata": {
        "colab": {
          "base_uri": "https://localhost:8080/",
          "height": 0
        },
        "id": "KhvCXBU7Y7xd",
        "outputId": "614223ef-3a7b-4d59-d9d1-f824b2b62f8f"
      },
      "execution_count": 10,
      "outputs": [
        {
          "output_type": "execute_result",
          "data": {
            "text/plain": [
              "BloodPressureProblems\n",
              "0    524\n",
              "1    462\n",
              "Name: count, dtype: int64"
            ],
            "text/html": [
              "<div>\n",
              "<style scoped>\n",
              "    .dataframe tbody tr th:only-of-type {\n",
              "        vertical-align: middle;\n",
              "    }\n",
              "\n",
              "    .dataframe tbody tr th {\n",
              "        vertical-align: top;\n",
              "    }\n",
              "\n",
              "    .dataframe thead th {\n",
              "        text-align: right;\n",
              "    }\n",
              "</style>\n",
              "<table border=\"1\" class=\"dataframe\">\n",
              "  <thead>\n",
              "    <tr style=\"text-align: right;\">\n",
              "      <th></th>\n",
              "      <th>count</th>\n",
              "    </tr>\n",
              "    <tr>\n",
              "      <th>BloodPressureProblems</th>\n",
              "      <th></th>\n",
              "    </tr>\n",
              "  </thead>\n",
              "  <tbody>\n",
              "    <tr>\n",
              "      <th>0</th>\n",
              "      <td>524</td>\n",
              "    </tr>\n",
              "    <tr>\n",
              "      <th>1</th>\n",
              "      <td>462</td>\n",
              "    </tr>\n",
              "  </tbody>\n",
              "</table>\n",
              "</div><br><label><b>dtype:</b> int64</label>"
            ]
          },
          "metadata": {},
          "execution_count": 10
        },
        {
          "output_type": "display_data",
          "data": {
            "text/plain": [
              "<Figure size 640x480 with 1 Axes>"
            ],
            "image/png": "[encoded data removed]"
          },
          "metadata": {}
        }
      ]
    },
    {
      "cell_type": "markdown",
      "source": [
        "For `AnyTransplants`"
      ],
      "metadata": {
        "id": "ee0maXrPZvWt"
      }
    },
    {
      "cell_type": "code",
      "source": [
        "bar('AnyTransplants')"
      ],
      "metadata": {
        "colab": {
          "base_uri": "https://localhost:8080/",
          "height": 0
        },
        "id": "9yIInDacZ1Ur",
        "outputId": "a356e23b-e184-45bc-8a33-b1d6b8944918"
      },
      "execution_count": 11,
      "outputs": [
        {
          "output_type": "execute_result",
          "data": {
            "text/plain": [
              "AnyTransplants\n",
              "0    931\n",
              "1     55\n",
              "Name: count, dtype: int64"
            ],
            "text/html": [
              "<div>\n",
              "<style scoped>\n",
              "    .dataframe tbody tr th:only-of-type {\n",
              "        vertical-align: middle;\n",
              "    }\n",
              "\n",
              "    .dataframe tbody tr th {\n",
              "        vertical-align: top;\n",
              "    }\n",
              "\n",
              "    .dataframe thead th {\n",
              "        text-align: right;\n",
              "    }\n",
              "</style>\n",
              "<table border=\"1\" class=\"dataframe\">\n",
              "  <thead>\n",
              "    <tr style=\"text-align: right;\">\n",
              "      <th></th>\n",
              "      <th>count</th>\n",
              "    </tr>\n",
              "    <tr>\n",
              "      <th>AnyTransplants</th>\n",
              "      <th></th>\n",
              "    </tr>\n",
              "  </thead>\n",
              "  <tbody>\n",
              "    <tr>\n",
              "      <th>0</th>\n",
              "      <td>931</td>\n",
              "    </tr>\n",
              "    <tr>\n",
              "      <th>1</th>\n",
              "      <td>55</td>\n",
              "    </tr>\n",
              "  </tbody>\n",
              "</table>\n",
              "</div><br><label><b>dtype:</b> int64</label>"
            ]
          },
          "metadata": {},
          "execution_count": 11
        },
        {
          "output_type": "display_data",
          "data": {
            "text/plain": [
              "<Figure size 640x480 with 1 Axes>"
            ],
            "image/png": "[encoded data removed]"
          },
          "metadata": {}
        }
      ]
    },
    {
      "cell_type": "markdown",
      "source": [
        "For `AnyChronicDiseases`"
      ],
      "metadata": {
        "id": "Ya6JwTn4a2kF"
      }
    },
    {
      "cell_type": "code",
      "source": [
        "bar('AnyChronicDiseases')"
      ],
      "metadata": {
        "colab": {
          "base_uri": "https://localhost:8080/",
          "height": 0
        },
        "id": "uezrZjMxaqIo",
        "outputId": "8c6b2ce1-880f-4bca-a2c1-9bb0530f28c7"
      },
      "execution_count": 12,
      "outputs": [
        {
          "output_type": "execute_result",
          "data": {
            "text/plain": [
              "AnyChronicDiseases\n",
              "0    808\n",
              "1    178\n",
              "Name: count, dtype: int64"
            ],
            "text/html": [
              "<div>\n",
              "<style scoped>\n",
              "    .dataframe tbody tr th:only-of-type {\n",
              "        vertical-align: middle;\n",
              "    }\n",
              "\n",
              "    .dataframe tbody tr th {\n",
              "        vertical-align: top;\n",
              "    }\n",
              "\n",
              "    .dataframe thead th {\n",
              "        text-align: right;\n",
              "    }\n",
              "</style>\n",
              "<table border=\"1\" class=\"dataframe\">\n",
              "  <thead>\n",
              "    <tr style=\"text-align: right;\">\n",
              "      <th></th>\n",
              "      <th>count</th>\n",
              "    </tr>\n",
              "    <tr>\n",
              "      <th>AnyChronicDiseases</th>\n",
              "      <th></th>\n",
              "    </tr>\n",
              "  </thead>\n",
              "  <tbody>\n",
              "    <tr>\n",
              "      <th>0</th>\n",
              "      <td>808</td>\n",
              "    </tr>\n",
              "    <tr>\n",
              "      <th>1</th>\n",
              "      <td>178</td>\n",
              "    </tr>\n",
              "  </tbody>\n",
              "</table>\n",
              "</div><br><label><b>dtype:</b> int64</label>"
            ]
          },
          "metadata": {},
          "execution_count": 12
        },
        {
          "output_type": "display_data",
          "data": {
            "text/plain": [
              "<Figure size 640x480 with 1 Axes>"
            ],
            "image/png": "[encoded data removed]"
          },
          "metadata": {}
        }
      ]
    },
    {
      "cell_type": "markdown",
      "source": [
        "For `Height` and `Weight`"
      ],
      "metadata": {
        "id": "IcfUS2rAa6uy"
      }
    },
    {
      "cell_type": "code",
      "source": [
        "df['Height_bin'] = pd.cut(\n",
        "    df['Height'],\n",
        "    bins=[140,150,160,170,180,190],   # bin edges as per height range\n",
        "    labels=['140-150','151-160','161-170','171-180','181-190']\n",
        ")\n",
        "\n",
        "height_counts = df['Height_bin'].value_counts().sort_index()\n",
        "sns.barplot(x=height_counts.index, y=height_counts.values)\n"
      ],
      "metadata": {
        "colab": {
          "base_uri": "https://localhost:8080/",
          "height": 0
        },
        "id": "k6wCcrGVa6az",
        "outputId": "bde558d1-00d9-491c-fe11-4b90b2696aa1"
      },
      "execution_count": 13,
      "outputs": [
        {
          "output_type": "execute_result",
          "data": {
            "text/plain": [
              "<Axes: xlabel='Height_bin'>"
            ]
          },
          "metadata": {},
          "execution_count": 13
        },
        {
          "output_type": "display_data",
          "data": {
            "text/plain": [
              "<Figure size 640x480 with 1 Axes>"
            ],
            "image/png": "[encoded data removed]"
          },
          "metadata": {}
        }
      ]
    },
    {
      "cell_type": "markdown",
      "source": [
        "For `Weight`"
      ],
      "metadata": {
        "id": "LV3abi5wbtNt"
      }
    },
    {
      "cell_type": "code",
      "source": [
        "df['Weight_bin'] = pd.cut(\n",
        "    df['Weight'],\n",
        "    bins=[50,60,70,80,90,100,110,120,130,140],   # bin edges\n",
        "    labels=['51-60','61-70','71-80','81-90','91-100','101-110','111-120','121-130','131-140']\n",
        ")\n",
        "\n",
        "weight_counts = df['Weight_bin'].value_counts().sort_index()\n",
        "sns.barplot(x=weight_counts.index, y=weight_counts.values)\n",
        "\n",
        "plt.xticks(rotation=30)\n",
        "plt.show()"
      ],
      "metadata": {
        "colab": {
          "base_uri": "https://localhost:8080/",
          "height": 0
        },
        "id": "bCNqeLgybyiW",
        "outputId": "738246ec-d2b0-4617-90fa-b8515577414a"
      },
      "execution_count": 14,
      "outputs": [
        {
          "output_type": "display_data",
          "data": {
            "text/plain": [
              "<Figure size 640x480 with 1 Axes>"
            ],
            "image/png": "[encoded data removed]"
          },
          "metadata": {}
        }
      ]
    },
    {
      "cell_type": "markdown",
      "source": [
        "For `KnownAllergies`"
      ],
      "metadata": {
        "id": "3KdQhqmZcvhH"
      }
    },
    {
      "cell_type": "code",
      "source": [
        "bar('KnownAllergies')"
      ],
      "metadata": {
        "colab": {
          "base_uri": "https://localhost:8080/",
          "height": 0
        },
        "id": "MGmdCjg5fvK2",
        "outputId": "7866bfa2-4284-4ff7-d09d-eaa1e25bff02"
      },
      "execution_count": 15,
      "outputs": [
        {
          "output_type": "execute_result",
          "data": {
            "text/plain": [
              "KnownAllergies\n",
              "0    774\n",
              "1    212\n",
              "Name: count, dtype: int64"
            ],
            "text/html": [
              "<div>\n",
              "<style scoped>\n",
              "    .dataframe tbody tr th:only-of-type {\n",
              "        vertical-align: middle;\n",
              "    }\n",
              "\n",
              "    .dataframe tbody tr th {\n",
              "        vertical-align: top;\n",
              "    }\n",
              "\n",
              "    .dataframe thead th {\n",
              "        text-align: right;\n",
              "    }\n",
              "</style>\n",
              "<table border=\"1\" class=\"dataframe\">\n",
              "  <thead>\n",
              "    <tr style=\"text-align: right;\">\n",
              "      <th></th>\n",
              "      <th>count</th>\n",
              "    </tr>\n",
              "    <tr>\n",
              "      <th>KnownAllergies</th>\n",
              "      <th></th>\n",
              "    </tr>\n",
              "  </thead>\n",
              "  <tbody>\n",
              "    <tr>\n",
              "      <th>0</th>\n",
              "      <td>774</td>\n",
              "    </tr>\n",
              "    <tr>\n",
              "      <th>1</th>\n",
              "      <td>212</td>\n",
              "    </tr>\n",
              "  </tbody>\n",
              "</table>\n",
              "</div><br><label><b>dtype:</b> int64</label>"
            ]
          },
          "metadata": {},
          "execution_count": 15
        },
        {
          "output_type": "display_data",
          "data": {
            "text/plain": [
              "<Figure size 640x480 with 1 Axes>"
            ],
            "image/png": "[encoded data removed]"
          },
          "metadata": {}
        }
      ]
    },
    {
      "cell_type": "markdown",
      "source": [
        "For `HistoryOfCancerInFamily`"
      ],
      "metadata": {
        "id": "-eaRg62OgA2C"
      }
    },
    {
      "cell_type": "code",
      "source": [
        "bar('HistoryOfCancerInFamily')"
      ],
      "metadata": {
        "colab": {
          "base_uri": "https://localhost:8080/",
          "height": 0
        },
        "id": "I0BU9OT2gAj1",
        "outputId": "25963fd0-eb80-49ac-f5fd-0771a7d60227"
      },
      "execution_count": 16,
      "outputs": [
        {
          "output_type": "execute_result",
          "data": {
            "text/plain": [
              "HistoryOfCancerInFamily\n",
              "0    870\n",
              "1    116\n",
              "Name: count, dtype: int64"
            ],
            "text/html": [
              "<div>\n",
              "<style scoped>\n",
              "    .dataframe tbody tr th:only-of-type {\n",
              "        vertical-align: middle;\n",
              "    }\n",
              "\n",
              "    .dataframe tbody tr th {\n",
              "        vertical-align: top;\n",
              "    }\n",
              "\n",
              "    .dataframe thead th {\n",
              "        text-align: right;\n",
              "    }\n",
              "</style>\n",
              "<table border=\"1\" class=\"dataframe\">\n",
              "  <thead>\n",
              "    <tr style=\"text-align: right;\">\n",
              "      <th></th>\n",
              "      <th>count</th>\n",
              "    </tr>\n",
              "    <tr>\n",
              "      <th>HistoryOfCancerInFamily</th>\n",
              "      <th></th>\n",
              "    </tr>\n",
              "  </thead>\n",
              "  <tbody>\n",
              "    <tr>\n",
              "      <th>0</th>\n",
              "      <td>870</td>\n",
              "    </tr>\n",
              "    <tr>\n",
              "      <th>1</th>\n",
              "      <td>116</td>\n",
              "    </tr>\n",
              "  </tbody>\n",
              "</table>\n",
              "</div><br><label><b>dtype:</b> int64</label>"
            ]
          },
          "metadata": {},
          "execution_count": 16
        },
        {
          "output_type": "display_data",
          "data": {
            "text/plain": [
              "<Figure size 640x480 with 1 Axes>"
            ],
            "image/png": "[encoded data removed]"
          },
          "metadata": {}
        }
      ]
    },
    {
      "cell_type": "markdown",
      "source": [
        "#### For `NumberOfMajorSurgeries`"
      ],
      "metadata": {
        "id": "VqOilI0WgP--"
      }
    },
    {
      "cell_type": "code",
      "source": [
        "bar('NumberOfMajorSurgeries')"
      ],
      "metadata": {
        "colab": {
          "base_uri": "https://localhost:8080/",
          "height": 0
        },
        "id": "cbvMKFOmgcng",
        "outputId": "a73f59e2-66bf-4323-ac20-67b59ce1f775"
      },
      "execution_count": 17,
      "outputs": [
        {
          "output_type": "execute_result",
          "data": {
            "text/plain": [
              "NumberOfMajorSurgeries\n",
              "0    479\n",
              "1    372\n",
              "2    119\n",
              "3     16\n",
              "Name: count, dtype: int64"
            ],
            "text/html": [
              "<div>\n",
              "<style scoped>\n",
              "    .dataframe tbody tr th:only-of-type {\n",
              "        vertical-align: middle;\n",
              "    }\n",
              "\n",
              "    .dataframe tbody tr th {\n",
              "        vertical-align: top;\n",
              "    }\n",
              "\n",
              "    .dataframe thead th {\n",
              "        text-align: right;\n",
              "    }\n",
              "</style>\n",
              "<table border=\"1\" class=\"dataframe\">\n",
              "  <thead>\n",
              "    <tr style=\"text-align: right;\">\n",
              "      <th></th>\n",
              "      <th>count</th>\n",
              "    </tr>\n",
              "    <tr>\n",
              "      <th>NumberOfMajorSurgeries</th>\n",
              "      <th></th>\n",
              "    </tr>\n",
              "  </thead>\n",
              "  <tbody>\n",
              "    <tr>\n",
              "      <th>0</th>\n",
              "      <td>479</td>\n",
              "    </tr>\n",
              "    <tr>\n",
              "      <th>1</th>\n",
              "      <td>372</td>\n",
              "    </tr>\n",
              "    <tr>\n",
              "      <th>2</th>\n",
              "      <td>119</td>\n",
              "    </tr>\n",
              "    <tr>\n",
              "      <th>3</th>\n",
              "      <td>16</td>\n",
              "    </tr>\n",
              "  </tbody>\n",
              "</table>\n",
              "</div><br><label><b>dtype:</b> int64</label>"
            ]
          },
          "metadata": {},
          "execution_count": 17
        },
        {
          "output_type": "display_data",
          "data": {
            "text/plain": [
              "<Figure size 640x480 with 1 Axes>"
            ],
            "image/png": "[encoded data removed]"
          },
          "metadata": {}
        }
      ]
    },
    {
      "cell_type": "markdown",
      "source": [
        "#### For `PremiumPrice`"
      ],
      "metadata": {
        "id": "yOBpV9FDgiGr"
      }
    },
    {
      "cell_type": "code",
      "source": [
        "df['Premium_bin'] = pd.cut(\n",
        "    df['PremiumPrice'],\n",
        "    bins=[15000,20000,25000,30000,35000,40000,45000],\n",
        "    labels=['15k-20k','20k-25k','25k-30k','30k-35k','35k-40k','40k+']\n",
        ")\n",
        "premium_counts = df['Premium_bin'].value_counts().sort_index()\n",
        "sns.barplot(x=premium_counts.index, y=premium_counts.values)\n",
        "plt.xticks(rotation=30)\n",
        "plt.show()"
      ],
      "metadata": {
        "colab": {
          "base_uri": "https://localhost:8080/",
          "height": 0
        },
        "id": "K6cIW8hLgqHl",
        "outputId": "ae53d960-e623-40aa-a2e7-d1a68c860aba"
      },
      "execution_count": 18,
      "outputs": [
        {
          "output_type": "display_data",
          "data": {
            "text/plain": [
              "<Figure size 640x480 with 1 Axes>"
            ],
            "image/png": "[encoded data removed]"
          },
          "metadata": {}
        }
      ]
    },
    {
      "cell_type": "markdown",
      "source": [
        "# Multi-Variate Analysis"
      ],
      "metadata": {
        "id": "CC-fBSJNhOYV"
      }
    },
    {
      "cell_type": "markdown",
      "source": [
        "#### Made a ill Column"
      ],
      "metadata": {
        "id": "Z-Bv5Rb3rhdi"
      }
    },
    {
      "cell_type": "code",
      "source": [
        "# Illness check\n",
        "ill_cols = [\n",
        "    'Diabetes', 'BloodPressureProblems', 'AnyTransplants',\n",
        "    'AnyChronicDiseases', 'KnownAllergies'\n",
        "]\n",
        "\n",
        "# Agar inme se koi bhi > 0 ho to ill = 1, else 0\n",
        "df['ill'] = df[ill_cols].sum(axis=1).apply(lambda x: 1 if x > 0 else 0)\n",
        "\n",
        "df[['Age','ill']].head()\n"
      ],
      "metadata": {
        "colab": {
          "base_uri": "https://localhost:8080/",
          "height": 206
        },
        "id": "AFe7TGlUhXqb",
        "outputId": "e85c07b1-1fe0-48c5-f60d-e2093d075ebb"
      },
      "execution_count": 19,
      "outputs": [
        {
          "output_type": "execute_result",
          "data": {
            "text/plain": [
              "   Age  ill\n",
              "0   45    0\n",
              "1   60    1\n",
              "2   36    1\n",
              "3   52    1\n",
              "4   38    1"
            ],
            "text/html": [
              "\n",
              "  <div id=\"df-2c5e566c-e230-48a1-83dc-e7aa2ac3acff\" class=\"colab-df-container\">\n",
              "    <div>\n",
              "<style scoped>\n",
              "    .dataframe tbody tr th:only-of-type {\n",
              "        vertical-align: middle;\n",
              "    }\n",
              "\n",
              "    .dataframe tbody tr th {\n",
              "        vertical-align: top;\n",
              "    }\n",
              "\n",
              "    .dataframe thead th {\n",
              "        text-align: right;\n",
              "    }\n",
              "</style>\n",
              "<table border=\"1\" class=\"dataframe\">\n",
              "  <thead>\n",
              "    <tr style=\"text-align: right;\">\n",
              "      <th></th>\n",
              "      <th>Age</th>\n",
              "      <th>ill</th>\n",
              "    </tr>\n",
              "  </thead>\n",
              "  <tbody>\n",
              "    <tr>\n",
              "      <th>0</th>\n",
              "      <td>45</td>\n",
              "      <td>0</td>\n",
              "    </tr>\n",
              "    <tr>\n",
              "      <th>1</th>\n",
              "      <td>60</td>\n",
              "      <td>1</td>\n",
              "    </tr>\n",
              "    <tr>\n",
              "      <th>2</th>\n",
              "      <td>36</td>\n",
              "      <td>1</td>\n",
              "    </tr>\n",
              "    <tr>\n",
              "      <th>3</th>\n",
              "      <td>52</td>\n",
              "      <td>1</td>\n",
              "    </tr>\n",
              "    <tr>\n",
              "      <th>4</th>\n",
              "      <td>38</td>\n",
              "      <td>1</td>\n",
              "    </tr>\n",
              "  </tbody>\n",
              "</table>\n",
              "</div>\n",
              "    <div class=\"colab-df-buttons\">\n",
              "\n",
              "  <div class=\"colab-df-container\">\n",
              "    <button class=\"colab-df-convert\" onclick=\"convertToInteractive('df-2c5e566c-e230-48a1-83dc-e7aa2ac3acff')\"\n",
              "            title=\"Convert this dataframe to an interactive table.\"\n",
              "            style=\"display:none;\">\n",
              "\n",
              "  <svg xmlns=\"http://www.w3.org/2000/svg\" height=\"24px\" viewBox=\"0 -960 960 960\">\n",
              "    <path d=\"M120-120v-720h720v720H120Zm60-500h600v-160H180v160Zm220 220h160v-160H400v160Zm0 220h160v-160H400v160ZM180-400h160v-160H180v160Zm440 0h160v-160H620v160ZM180-180h160v-160H180v160Zm440 0h160v-160H620v160Z\"/>\n",
              "  </svg>\n",
              "    </button>\n",
              "\n",
              "  <style>\n",
              "    .colab-df-container {\n",
              "      display:flex;\n",
              "      gap: 12px;\n",
              "    }\n",
              "\n",
              "    .colab-df-convert {\n",
              "      background-color: #E8F0FE;\n",
              "      border: none;\n",
              "      border-radius: 50%;\n",
              "      cursor: pointer;\n",
              "      display: none;\n",
              "      fill: #1967D2;\n",
              "      height: 32px;\n",
              "      padding: 0 0 0 0;\n",
              "      width: 32px;\n",
              "    }\n",
              "\n",
              "    .colab-df-convert:hover {\n",
              "      background-color: #E2EBFA;\n",
              "      box-shadow: 0px 1px 2px rgba(60, 64, 67, 0.3), 0px 1px 3px 1px rgba(60, 64, 67, 0.15);\n",
              "      fill: #174EA6;\n",
              "    }\n",
              "\n",
              "    .colab-df-buttons div {\n",
              "      margin-bottom: 4px;\n",
              "    }\n",
              "\n",
              "    [theme=dark] .colab-df-convert {\n",
              "      background-color: #3B4455;\n",
              "      fill: #D2E3FC;\n",
              "    }\n",
              "\n",
              "    [theme=dark] .colab-df-convert:hover {\n",
              "      background-color: #434B5C;\n",
              "      box-shadow: 0px 1px 3px 1px rgba(0, 0, 0, 0.15);\n",
              "      filter: drop-shadow(0px 1px 2px rgba(0, 0, 0, 0.3));\n",
              "      fill: #FFFFFF;\n",
              "    }\n",
              "  </style>\n",
              "\n",
              "    <script>\n",
              "      const buttonEl =\n",
              "        document.querySelector('#df-2c5e566c-e230-48a1-83dc-e7aa2ac3acff button.colab-df-convert');\n",
              "      buttonEl.style.display =\n",
              "        google.colab.kernel.accessAllowed ? 'block' : 'none';\n",
              "\n",
              "      async function convertToInteractive(key) {\n",
              "        const element = document.querySelector('#df-2c5e566c-e230-48a1-83dc-e7aa2ac3acff');\n",
              "        const dataTable =\n",
              "          await google.colab.kernel.invokeFunction('convertToInteractive',\n",
              "                                                    [key], {});\n",
              "        if (!dataTable) return;\n",
              "\n",
              "        const docLinkHtml = 'Like what you see? Visit the ' +\n",
              "          '<a target=\"_blank\" href=https://colab.research.google.com/notebooks/data_table.ipynb>data table notebook</a>'\n",
              "          + ' to learn more about interactive tables.';\n",
              "        element.innerHTML = '';\n",
              "        dataTable['output_type'] = 'display_data';\n",
              "        await google.colab.output.renderOutput(dataTable, element);\n",
              "        const docLink = document.createElement('div');\n",
              "        docLink.innerHTML = docLinkHtml;\n",
              "        element.appendChild(docLink);\n",
              "      }\n",
              "    </script>\n",
              "  </div>\n",
              "\n",
              "\n",
              "    <div id=\"df-32c84a86-0243-4fa8-910f-769872487dba\">\n",
              "      <button class=\"colab-df-quickchart\" onclick=\"quickchart('df-32c84a86-0243-4fa8-910f-769872487dba')\"\n",
              "                title=\"Suggest charts\"\n",
              "                style=\"display:none;\">\n",
              "\n",
              "<svg xmlns=\"http://www.w3.org/2000/svg\" height=\"24px\"viewBox=\"0 0 24 24\"\n",
              "     width=\"24px\">\n",
              "    <g>\n",
              "        <path d=\"M19 3H5c-1.1 0-2 .9-2 2v14c0 1.1.9 2 2 2h14c1.1 0 2-.9 2-2V5c0-1.1-.9-2-2-2zM9 17H7v-7h2v7zm4 0h-2V7h2v10zm4 0h-2v-4h2v4z\"/>\n",
              "    </g>\n",
              "</svg>\n",
              "      </button>\n",
              "\n",
              "<style>\n",
              "  .colab-df-quickchart {\n",
              "      --bg-color: #E8F0FE;\n",
              "      --fill-color: #1967D2;\n",
              "      --hover-bg-color: #E2EBFA;\n",
              "      --hover-fill-color: #174EA6;\n",
              "      --disabled-fill-color: #AAA;\n",
              "      --disabled-bg-color: #DDD;\n",
              "  }\n",
              "\n",
              "  [theme=dark] .colab-df-quickchart {\n",
              "      --bg-color: #3B4455;\n",
              "      --fill-color: #D2E3FC;\n",
              "      --hover-bg-color: #434B5C;\n",
              "      --hover-fill-color: #FFFFFF;\n",
              "      --disabled-bg-color: #3B4455;\n",
              "      --disabled-fill-color: #666;\n",
              "  }\n",
              "\n",
              "  .colab-df-quickchart {\n",
              "    background-color: var(--bg-color);\n",
              "    border: none;\n",
              "    border-radius: 50%;\n",
              "    cursor: pointer;\n",
              "    display: none;\n",
              "    fill: var(--fill-color);\n",
              "    height: 32px;\n",
              "    padding: 0;\n",
              "    width: 32px;\n",
              "  }\n",
              "\n",
              "  .colab-df-quickchart:hover {\n",
              "    background-color: var(--hover-bg-color);\n",
              "    box-shadow: 0 1px 2px rgba(60, 64, 67, 0.3), 0 1px 3px 1px rgba(60, 64, 67, 0.15);\n",
              "    fill: var(--button-hover-fill-color);\n",
              "  }\n",
              "\n",
              "  .colab-df-quickchart-complete:disabled,\n",
              "  .colab-df-quickchart-complete:disabled:hover {\n",
              "    background-color: var(--disabled-bg-color);\n",
              "    fill: var(--disabled-fill-color);\n",
              "    box-shadow: none;\n",
              "  }\n",
              "\n",
              "  .colab-df-spinner {\n",
              "    border: 2px solid var(--fill-color);\n",
              "    border-color: transparent;\n",
              "    border-bottom-color: var(--fill-color);\n",
              "    animation:\n",
              "      spin 1s steps(1) infinite;\n",
              "  }\n",
              "\n",
              "  @keyframes spin {\n",
              "    0% {\n",
              "      border-color: transparent;\n",
              "      border-bottom-color: var(--fill-color);\n",
              "      border-left-color: var(--fill-color);\n",
              "    }\n",
              "    20% {\n",
              "      border-color: transparent;\n",
              "      border-left-color: var(--fill-color);\n",
              "      border-top-color: var(--fill-color);\n",
              "    }\n",
              "    30% {\n",
              "      border-color: transparent;\n",
              "      border-left-color: var(--fill-color);\n",
              "      border-top-color: var(--fill-color);\n",
              "      border-right-color: var(--fill-color);\n",
              "    }\n",
              "    40% {\n",
              "      border-color: transparent;\n",
              "      border-right-color: var(--fill-color);\n",
              "      border-top-color: var(--fill-color);\n",
              "    }\n",
              "    60% {\n",
              "      border-color: transparent;\n",
              "      border-right-color: var(--fill-color);\n",
              "    }\n",
              "    80% {\n",
              "      border-color: transparent;\n",
              "      border-right-color: var(--fill-color);\n",
              "      border-bottom-color: var(--fill-color);\n",
              "    }\n",
              "    90% {\n",
              "      border-color: transparent;\n",
              "      border-bottom-color: var(--fill-color);\n",
              "    }\n",
              "  }\n",
              "</style>\n",
              "\n",
              "      <script>\n",
              "        async function quickchart(key) {\n",
              "          const quickchartButtonEl =\n",
              "            document.querySelector('#' + key + ' button');\n",
              "          quickchartButtonEl.disabled = true;  // To prevent multiple clicks.\n",
              "          quickchartButtonEl.classList.add('colab-df-spinner');\n",
              "          try {\n",
              "            const charts = await google.colab.kernel.invokeFunction(\n",
              "                'suggestCharts', [key], {});\n",
              "          } catch (error) {\n",
              "            console.error('Error during call to suggestCharts:', error);\n",
              "          }\n",
              "          quickchartButtonEl.classList.remove('colab-df-spinner');\n",
              "          quickchartButtonEl.classList.add('colab-df-quickchart-complete');\n",
              "        }\n",
              "        (() => {\n",
              "          let quickchartButtonEl =\n",
              "            document.querySelector('#df-32c84a86-0243-4fa8-910f-769872487dba button');\n",
              "          quickchartButtonEl.style.display =\n",
              "            google.colab.kernel.accessAllowed ? 'block' : 'none';\n",
              "        })();\n",
              "      </script>\n",
              "    </div>\n",
              "\n",
              "    </div>\n",
              "  </div>\n"
            ],
            "application/vnd.google.colaboratory.intrinsic+json": {
              "type": "dataframe",
              "summary": "{\n  \"name\": \"df[['Age','ill']]\",\n  \"rows\": 5,\n  \"fields\": [\n    {\n      \"column\": \"Age\",\n      \"properties\": {\n        \"dtype\": \"number\",\n        \"std\": 9,\n        \"min\": 36,\n        \"max\": 60,\n        \"num_unique_values\": 5,\n        \"samples\": [\n          60,\n          38,\n          36\n        ],\n        \"semantic_type\": \"\",\n        \"description\": \"\"\n      }\n    },\n    {\n      \"column\": \"ill\",\n      \"properties\": {\n        \"dtype\": \"number\",\n        \"std\": 0,\n        \"min\": 0,\n        \"max\": 1,\n        \"num_unique_values\": 2,\n        \"samples\": [\n          1,\n          0\n        ],\n        \"semantic_type\": \"\",\n        \"description\": \"\"\n      }\n    }\n  ]\n}"
            }
          },
          "metadata": {},
          "execution_count": 19
        }
      ]
    },
    {
      "cell_type": "code",
      "source": [
        "# Count of healthy (0) vs ill (1)\n",
        "ill_counts = df['ill'].value_counts().sort_index()\n",
        "\n",
        "# Barplot\n",
        "sns.barplot(\n",
        "    x=ill_counts.index,\n",
        "    y=ill_counts.values,\n",
        "    palette=['#2ecc71','#e74c3c']  # green for healthy, red for ill\n",
        ")\n",
        "\n",
        "# Labels\n",
        "plt.xticks([0,1], ['Healthy','ill'])\n",
        "plt.ylabel('Number of People')\n",
        "plt.title('Health Status Distribution')\n",
        "plt.show()\n"
      ],
      "metadata": {
        "colab": {
          "base_uri": "https://localhost:8080/",
          "height": 579
        },
        "id": "Lim1dIZOmLC2",
        "outputId": "a6c909a6-59c4-4e13-9146-08821063f698"
      },
      "execution_count": 20,
      "outputs": [
        {
          "output_type": "stream",
          "name": "stderr",
          "text": [
            "/tmp/ipython-input-1573204809.py:5: FutureWarning: \n",
            "\n",
            "Passing `palette` without assigning `hue` is deprecated and will be removed in v0.14.0. Assign the `x` variable to `hue` and set `legend=False` for the same effect.\n",
            "\n",
            "  sns.barplot(\n"
          ]
        },
        {
          "output_type": "display_data",
          "data": {
            "text/plain": [
              "<Figure size 640x480 with 1 Axes>"
            ],
            "image/png": "[encoded data removed]"
          },
          "metadata": {}
        }
      ]
    },
    {
      "cell_type": "markdown",
      "source": [
        "Health Status Distribution\n",
        "\n",
        "\n",
        "---\n",
        "\n",
        "\n",
        "- **Healthy** → ~200 people  \n",
        "- **Ill** → ~800 people  \n",
        "- Majority of people are **ill**, only a small portion are **healthy**.\n",
        "\n",
        "\n",
        "---"
      ],
      "metadata": {
        "id": "IPm09kMnsD9n"
      }
    },
    {
      "cell_type": "markdown",
      "source": [
        "####  `Age_bin` VS `PremiumPrice`"
      ],
      "metadata": {
        "id": "PoPB1S8rrrf9"
      }
    },
    {
      "cell_type": "code",
      "source": [
        "\n",
        "# Group by Age_bin and PremiumPrice count\n",
        "age_premium_counts = df.groupby('Age_bin')['PremiumPrice'].value_counts().reset_index(name='Count')\n",
        "\n",
        "# Barplot\n",
        "plt.figure(figsize=(12,6))\n",
        "sns.barplot(\n",
        "    data=age_premium_counts,\n",
        "    x='Age_bin',\n",
        "    y='Count',\n",
        "    hue='PremiumPrice',    # different colors for different PremiumPrice\n",
        "    palette='viridis'\n",
        ")\n",
        "plt.xticks(rotation=30)\n",
        "plt.title('Premium Price Distribution across Age Bins')\n",
        "plt.ylabel('Number of People')\n",
        "plt.xlabel('Age Bin')\n",
        "plt.legend(title='PremiumPrice')\n",
        "plt.show()"
      ],
      "metadata": {
        "colab": {
          "base_uri": "https://localhost:8080/",
          "height": 637
        },
        "id": "7fz6HR1QnFCK",
        "outputId": "d7ff6127-efef-4194-b79b-d17d9c409608"
      },
      "execution_count": 21,
      "outputs": [
        {
          "output_type": "stream",
          "name": "stderr",
          "text": [
            "/tmp/ipython-input-812606666.py:2: FutureWarning: The default of observed=False is deprecated and will be changed to True in a future version of pandas. Pass observed=False to retain current behavior or observed=True to adopt the future default and silence this warning.\n",
            "  age_premium_counts = df.groupby('Age_bin')['PremiumPrice'].value_counts().reset_index(name='Count')\n"
          ]
        },
        {
          "output_type": "display_data",
          "data": {
            "text/plain": [
              "<Figure size 1200x600 with 1 Axes>"
            ],
            "image/png": "[encoded data removed]"
          },
          "metadata": {}
        }
      ]
    },
    {
      "cell_type": "markdown",
      "source": [
        "`Premium Price Distribution across Age`\n",
        "\n",
        "\n",
        "- **0–18, 19–30** → Mostly ₹15,000 premium  \n",
        "- **31–40, 41–50** → ₹25,000 dominates  \n",
        "- **51–60, 61–70** → ₹30,000 dominates  \n",
        "- Higher premiums (₹35,000–₹40,000) → Fewer people across all bins\n",
        "\n",
        "\n",
        "---\n",
        "\n",
        "\n"
      ],
      "metadata": {
        "id": "LHGiGvpfraRJ"
      }
    },
    {
      "cell_type": "code",
      "source": [
        "import scipy.stats as stats\n",
        "\n",
        "# Create groups based on Age_bin\n",
        "groups = [df[df['Age_bin'] == bin]['PremiumPrice'] for bin in df['Age_bin'].unique()]\n",
        "\n",
        "# Apply one-way ANOVA\n",
        "f_stat, p_val = stats.f_oneway(*groups)\n",
        "\n",
        "print(\"F-statistic:\", f_stat)\n",
        "print(\"p-value:\", p_val)\n",
        "\n",
        "if p_val < 0.05:\n",
        "    print(\"Reject H₀ → PremiumPrice varies significantly across Age bins\")\n",
        "else:\n",
        "    print(\"Fail to Reject H₀ → No significant difference across Age bins\")\n"
      ],
      "metadata": {
        "colab": {
          "base_uri": "https://localhost:8080/"
        },
        "id": "8kvjjY3w8Fg1",
        "outputId": "7402b3c2-4466-41eb-ba2b-71bb3680edd9"
      },
      "execution_count": 22,
      "outputs": [
        {
          "output_type": "stream",
          "name": "stdout",
          "text": [
            "F-statistic: 234.33019765008285\n",
            "p-value: 1.4489324041124089e-164\n",
            "Reject H₀ → PremiumPrice varies significantly across Age bins\n"
          ]
        }
      ]
    },
    {
      "cell_type": "markdown",
      "source": [
        "`🔹 ANOVA Test: PremiumPrice vs Age_bin`\n",
        "\n",
        "**Variables Tested**  \n",
        "- **Age_bin (categorical)**  \n",
        "- **PremiumPrice (continuous)**  \n",
        "\n",
        "---\n",
        "`Hypotheses`  \n",
        "- **H₀ (Null):** The mean PremiumPrice is the same across all Age bins.  \n",
        "- **H₁ (Alternative):** The mean PremiumPrice differs across Age bins.  \n",
        "\n",
        "---\n",
        "\n",
        "`Results`  \n",
        "- **F-statistic:** 234.33  \n",
        "- **p-value:** 1.45 × 10⁻¹⁶⁴  \n",
        "\n",
        "---\n",
        "\n",
        "`Decision`  \n",
        "✅ Since **p-value << 0.05**, we **Reject H₀**.  \n",
        "👉 Conclusion: **PremiumPrice varies significantly across Age bins**.  \n",
        "\n",
        "---\n",
        "\n",
        "`Interpretation`  \n",
        "Different age groups pay **different insurance premiums**, indicating a strong association between age and premium amount.\n"
      ],
      "metadata": {
        "id": "JM43Fmlz8puQ"
      }
    },
    {
      "cell_type": "code",
      "source": [
        "df.info()"
      ],
      "metadata": {
        "id": "-J-nThQ2p4TM",
        "colab": {
          "base_uri": "https://localhost:8080/"
        },
        "outputId": "8ce12d43-9f13-4cb5-ca23-1fa236a2f765"
      },
      "execution_count": 23,
      "outputs": [
        {
          "output_type": "stream",
          "name": "stdout",
          "text": [
            "<class 'pandas.core.frame.DataFrame'>\n",
            "RangeIndex: 986 entries, 0 to 985\n",
            "Data columns (total 16 columns):\n",
            " #   Column                   Non-Null Count  Dtype   \n",
            "---  ------                   --------------  -----   \n",
            " 0   Age                      986 non-null    int64   \n",
            " 1   Diabetes                 986 non-null    int64   \n",
            " 2   BloodPressureProblems    986 non-null    int64   \n",
            " 3   AnyTransplants           986 non-null    int64   \n",
            " 4   AnyChronicDiseases       986 non-null    int64   \n",
            " 5   Height                   986 non-null    int64   \n",
            " 6   Weight                   986 non-null    int64   \n",
            " 7   KnownAllergies           986 non-null    int64   \n",
            " 8   HistoryOfCancerInFamily  986 non-null    int64   \n",
            " 9   NumberOfMajorSurgeries   986 non-null    int64   \n",
            " 10  PremiumPrice             986 non-null    int64   \n",
            " 11  Age_bin                  986 non-null    category\n",
            " 12  Height_bin               986 non-null    category\n",
            " 13  Weight_bin               986 non-null    category\n",
            " 14  Premium_bin              784 non-null    category\n",
            " 15  ill                      986 non-null    int64   \n",
            "dtypes: category(4), int64(12)\n",
            "memory usage: 97.4 KB\n"
          ]
        }
      ]
    },
    {
      "cell_type": "markdown",
      "source": [
        "#### `ill` vs `PremiumPrice`"
      ],
      "metadata": {
        "id": "8nOJscjv7tzJ"
      }
    },
    {
      "cell_type": "code",
      "source": [
        "contingency = pd.crosstab(df['ill'], df['Premium_bin'])\n",
        "print(contingency)"
      ],
      "metadata": {
        "colab": {
          "base_uri": "https://localhost:8080/"
        },
        "id": "IBMocJbq3yPd",
        "outputId": "dcbf7b82-ebe8-41ef-f286-b4585941abf5"
      },
      "execution_count": 24,
      "outputs": [
        {
          "output_type": "stream",
          "name": "stdout",
          "text": [
            "Premium_bin  15k-20k  20k-25k  25k-30k  30k-35k  35k-40k\n",
            "ill                                                     \n",
            "0                  2       80       23       11        1\n",
            "1                 20      303      236       67       41\n"
          ]
        }
      ]
    },
    {
      "cell_type": "code",
      "source": [
        "from scipy.stats import chi2_contingency\n",
        "\n",
        "chi2, p, dof, expected = chi2_contingency(contingency)\n",
        "\n",
        "print(\"Chi-square value:\", chi2)\n",
        "print(\"p-value:\", p)\n",
        "print(\"Degrees of freedom:\", dof)\n",
        "print(\"Expected frequencies:\\n\", expected)\n",
        "\n",
        "#Decision\n",
        "alpha = 0.05  # significance level\n",
        "if p < alpha:\n",
        "    print(\"\\nDecision: Reject H₀ → Illness status and Premium category ARE associated.\")\n",
        "else:\n",
        "    print(\"\\nDecision: Fail to Reject H₀ → Illness status and Premium category are NOT associated.\")"
      ],
      "metadata": {
        "colab": {
          "base_uri": "https://localhost:8080/"
        },
        "id": "4aCa9jpa5a99",
        "outputId": "0e78efc2-de12-42e3-8884-5e32de6bcbbf"
      },
      "execution_count": 25,
      "outputs": [
        {
          "output_type": "stream",
          "name": "stdout",
          "text": [
            "Chi-square value: 24.015560217851522\n",
            "p-value: 7.930316958639924e-05\n",
            "Degrees of freedom: 4\n",
            "Expected frequencies:\n",
            " [[  3.28316327  57.15688776  38.65178571  11.64030612   6.26785714]\n",
            " [ 18.71683673 325.84311224 220.34821429  66.35969388  35.73214286]]\n",
            "\n",
            "Decision: Reject H₀ → Illness status and Premium category ARE associated.\n"
          ]
        }
      ]
    },
    {
      "cell_type": "markdown",
      "source": [
        "🔹`Chi-Square Test of Independence`\n",
        "\n",
        "**Variables Tested**  \n",
        "- **ill (disease status)**  \n",
        "- **Premium_bin (premium category)**  \n",
        "\n",
        "---\n",
        "\n",
        "`Hypotheses`\n",
        "- **H₀ (Null):** Illness status and Premium category are independent (no association).  \n",
        "- **H₁ (Alternative):** Illness status and Premium category are associated.  \n",
        "\n",
        "---\n",
        "\n",
        "`Results`  \n",
        "- **Chi-square value:** 24.016  \n",
        "- **Degrees of freedom (df):** 4  \n",
        "- **p-value:** 0.000079  \n",
        "\n",
        "- **Expected Frequencies Table:**\n",
        "\n",
        "| ill | Bin1 | Bin2 | Bin3 | Bin4 | Bin5 |\n",
        "|-----|------|------|------|------|------|\n",
        "| 0   | 3.28 | 57.16 | 38.65 | 11.64 | 6.27 |\n",
        "| 1   | 18.72 | 325.84 | 220.35 | 66.36 | 35.73 |\n",
        "\n",
        "---\n",
        "\n",
        "`Decision`\n",
        "✅ Since **p-value (0.000079) < 0.05**, we **Reject H₀**.  \n",
        "👉 Illness status and Premium category **ARE significantly associated**.  \n"
      ],
      "metadata": {
        "id": "7OAn8Eeo6pQQ"
      }
    },
    {
      "cell_type": "markdown",
      "source": [
        "#### For `Diabetes` vs `PremiumPrice`"
      ],
      "metadata": {
        "id": "S9H9jaZH9h7B"
      }
    },
    {
      "cell_type": "markdown",
      "source": [
        "#### Making BMI"
      ],
      "metadata": {
        "id": "t4A0xJByAIva"
      }
    },
    {
      "cell_type": "code",
      "source": [
        "# Height cm → m\n",
        "df['Height_m'] = df['Height'] / 100\n",
        "\n",
        "# BMI calculation\n",
        "df['BMI'] = round(df['Weight'] / (df['Height_m'] ** 2),4)\n",
        "\n",
        "df[['Height', 'Weight', 'BMI']].head()"
      ],
      "metadata": {
        "colab": {
          "base_uri": "https://localhost:8080/",
          "height": 206
        },
        "id": "_trFXqd0-aN0",
        "outputId": "72cecc1a-fe7b-44cb-89e1-7c4aaf047b2d"
      },
      "execution_count": 26,
      "outputs": [
        {
          "output_type": "execute_result",
          "data": {
            "text/plain": [
              "   Height  Weight      BMI\n",
              "0     155      57  23.7253\n",
              "1     180      73  22.5309\n",
              "2     158      59  23.6340\n",
              "3     183      93  27.7703\n",
              "4     166      88  31.9350"
            ],
            "text/html": [
              "\n",
              "  <div id=\"df-6ecdbf4e-9d41-4bf5-8be1-4c09f40a9ba4\" class=\"colab-df-container\">\n",
              "    <div>\n",
              "<style scoped>\n",
              "    .dataframe tbody tr th:only-of-type {\n",
              "        vertical-align: middle;\n",
              "    }\n",
              "\n",
              "    .dataframe tbody tr th {\n",
              "        vertical-align: top;\n",
              "    }\n",
              "\n",
              "    .dataframe thead th {\n",
              "        text-align: right;\n",
              "    }\n",
              "</style>\n",
              "<table border=\"1\" class=\"dataframe\">\n",
              "  <thead>\n",
              "    <tr style=\"text-align: right;\">\n",
              "      <th></th>\n",
              "      <th>Height</th>\n",
              "      <th>Weight</th>\n",
              "      <th>BMI</th>\n",
              "    </tr>\n",
              "  </thead>\n",
              "  <tbody>\n",
              "    <tr>\n",
              "      <th>0</th>\n",
              "      <td>155</td>\n",
              "      <td>57</td>\n",
              "      <td>23.7253</td>\n",
              "    </tr>\n",
              "    <tr>\n",
              "      <th>1</th>\n",
              "      <td>180</td>\n",
              "      <td>73</td>\n",
              "      <td>22.5309</td>\n",
              "    </tr>\n",
              "    <tr>\n",
              "      <th>2</th>\n",
              "      <td>158</td>\n",
              "      <td>59</td>\n",
              "      <td>23.6340</td>\n",
              "    </tr>\n",
              "    <tr>\n",
              "      <th>3</th>\n",
              "      <td>183</td>\n",
              "      <td>93</td>\n",
              "      <td>27.7703</td>\n",
              "    </tr>\n",
              "    <tr>\n",
              "      <th>4</th>\n",
              "      <td>166</td>\n",
              "      <td>88</td>\n",
              "      <td>31.9350</td>\n",
              "    </tr>\n",
              "  </tbody>\n",
              "</table>\n",
              "</div>\n",
              "    <div class=\"colab-df-buttons\">\n",
              "\n",
              "  <div class=\"colab-df-container\">\n",
              "    <button class=\"colab-df-convert\" onclick=\"convertToInteractive('df-6ecdbf4e-9d41-4bf5-8be1-4c09f40a9ba4')\"\n",
              "            title=\"Convert this dataframe to an interactive table.\"\n",
              "            style=\"display:none;\">\n",
              "\n",
              "  <svg xmlns=\"http://www.w3.org/2000/svg\" height=\"24px\" viewBox=\"0 -960 960 960\">\n",
              "    <path d=\"M120-120v-720h720v720H120Zm60-500h600v-160H180v160Zm220 220h160v-160H400v160Zm0 220h160v-160H400v160ZM180-400h160v-160H180v160Zm440 0h160v-160H620v160ZM180-180h160v-160H180v160Zm440 0h160v-160H620v160Z\"/>\n",
              "  </svg>\n",
              "    </button>\n",
              "\n",
              "  <style>\n",
              "    .colab-df-container {\n",
              "      display:flex;\n",
              "      gap: 12px;\n",
              "    }\n",
              "\n",
              "    .colab-df-convert {\n",
              "      background-color: #E8F0FE;\n",
              "      border: none;\n",
              "      border-radius: 50%;\n",
              "      cursor: pointer;\n",
              "      display: none;\n",
              "      fill: #1967D2;\n",
              "      height: 32px;\n",
              "      padding: 0 0 0 0;\n",
              "      width: 32px;\n",
              "    }\n",
              "\n",
              "    .colab-df-convert:hover {\n",
              "      background-color: #E2EBFA;\n",
              "      box-shadow: 0px 1px 2px rgba(60, 64, 67, 0.3), 0px 1px 3px 1px rgba(60, 64, 67, 0.15);\n",
              "      fill: #174EA6;\n",
              "    }\n",
              "\n",
              "    .colab-df-buttons div {\n",
              "      margin-bottom: 4px;\n",
              "    }\n",
              "\n",
              "    [theme=dark] .colab-df-convert {\n",
              "      background-color: #3B4455;\n",
              "      fill: #D2E3FC;\n",
              "    }\n",
              "\n",
              "    [theme=dark] .colab-df-convert:hover {\n",
              "      background-color: #434B5C;\n",
              "      box-shadow: 0px 1px 3px 1px rgba(0, 0, 0, 0.15);\n",
              "      filter: drop-shadow(0px 1px 2px rgba(0, 0, 0, 0.3));\n",
              "      fill: #FFFFFF;\n",
              "    }\n",
              "  </style>\n",
              "\n",
              "    <script>\n",
              "      const buttonEl =\n",
              "        document.querySelector('#df-6ecdbf4e-9d41-4bf5-8be1-4c09f40a9ba4 button.colab-df-convert');\n",
              "      buttonEl.style.display =\n",
              "        google.colab.kernel.accessAllowed ? 'block' : 'none';\n",
              "\n",
              "      async function convertToInteractive(key) {\n",
              "        const element = document.querySelector('#df-6ecdbf4e-9d41-4bf5-8be1-4c09f40a9ba4');\n",
              "        const dataTable =\n",
              "          await google.colab.kernel.invokeFunction('convertToInteractive',\n",
              "                                                    [key], {});\n",
              "        if (!dataTable) return;\n",
              "\n",
              "        const docLinkHtml = 'Like what you see? Visit the ' +\n",
              "          '<a target=\"_blank\" href=https://colab.research.google.com/notebooks/data_table.ipynb>data table notebook</a>'\n",
              "          + ' to learn more about interactive tables.';\n",
              "        element.innerHTML = '';\n",
              "        dataTable['output_type'] = 'display_data';\n",
              "        await google.colab.output.renderOutput(dataTable, element);\n",
              "        const docLink = document.createElement('div');\n",
              "        docLink.innerHTML = docLinkHtml;\n",
              "        element.appendChild(docLink);\n",
              "      }\n",
              "    </script>\n",
              "  </div>\n",
              "\n",
              "\n",
              "    <div id=\"df-678365b6-d09c-4724-9fcb-be6b10113602\">\n",
              "      <button class=\"colab-df-quickchart\" onclick=\"quickchart('df-678365b6-d09c-4724-9fcb-be6b10113602')\"\n",
              "                title=\"Suggest charts\"\n",
              "                style=\"display:none;\">\n",
              "\n",
              "<svg xmlns=\"http://www.w3.org/2000/svg\" height=\"24px\"viewBox=\"0 0 24 24\"\n",
              "     width=\"24px\">\n",
              "    <g>\n",
              "        <path d=\"M19 3H5c-1.1 0-2 .9-2 2v14c0 1.1.9 2 2 2h14c1.1 0 2-.9 2-2V5c0-1.1-.9-2-2-2zM9 17H7v-7h2v7zm4 0h-2V7h2v10zm4 0h-2v-4h2v4z\"/>\n",
              "    </g>\n",
              "</svg>\n",
              "      </button>\n",
              "\n",
              "<style>\n",
              "  .colab-df-quickchart {\n",
              "      --bg-color: #E8F0FE;\n",
              "      --fill-color: #1967D2;\n",
              "      --hover-bg-color: #E2EBFA;\n",
              "      --hover-fill-color: #174EA6;\n",
              "      --disabled-fill-color: #AAA;\n",
              "      --disabled-bg-color: #DDD;\n",
              "  }\n",
              "\n",
              "  [theme=dark] .colab-df-quickchart {\n",
              "      --bg-color: #3B4455;\n",
              "      --fill-color: #D2E3FC;\n",
              "      --hover-bg-color: #434B5C;\n",
              "      --hover-fill-color: #FFFFFF;\n",
              "      --disabled-bg-color: #3B4455;\n",
              "      --disabled-fill-color: #666;\n",
              "  }\n",
              "\n",
              "  .colab-df-quickchart {\n",
              "    background-color: var(--bg-color);\n",
              "    border: none;\n",
              "    border-radius: 50%;\n",
              "    cursor: pointer;\n",
              "    display: none;\n",
              "    fill: var(--fill-color);\n",
              "    height: 32px;\n",
              "    padding: 0;\n",
              "    width: 32px;\n",
              "  }\n",
              "\n",
              "  .colab-df-quickchart:hover {\n",
              "    background-color: var(--hover-bg-color);\n",
              "    box-shadow: 0 1px 2px rgba(60, 64, 67, 0.3), 0 1px 3px 1px rgba(60, 64, 67, 0.15);\n",
              "    fill: var(--button-hover-fill-color);\n",
              "  }\n",
              "\n",
              "  .colab-df-quickchart-complete:disabled,\n",
              "  .colab-df-quickchart-complete:disabled:hover {\n",
              "    background-color: var(--disabled-bg-color);\n",
              "    fill: var(--disabled-fill-color);\n",
              "    box-shadow: none;\n",
              "  }\n",
              "\n",
              "  .colab-df-spinner {\n",
              "    border: 2px solid var(--fill-color);\n",
              "    border-color: transparent;\n",
              "    border-bottom-color: var(--fill-color);\n",
              "    animation:\n",
              "      spin 1s steps(1) infinite;\n",
              "  }\n",
              "\n",
              "  @keyframes spin {\n",
              "    0% {\n",
              "      border-color: transparent;\n",
              "      border-bottom-color: var(--fill-color);\n",
              "      border-left-color: var(--fill-color);\n",
              "    }\n",
              "    20% {\n",
              "      border-color: transparent;\n",
              "      border-left-color: var(--fill-color);\n",
              "      border-top-color: var(--fill-color);\n",
              "    }\n",
              "    30% {\n",
              "      border-color: transparent;\n",
              "      border-left-color: var(--fill-color);\n",
              "      border-top-color: var(--fill-color);\n",
              "      border-right-color: var(--fill-color);\n",
              "    }\n",
              "    40% {\n",
              "      border-color: transparent;\n",
              "      border-right-color: var(--fill-color);\n",
              "      border-top-color: var(--fill-color);\n",
              "    }\n",
              "    60% {\n",
              "      border-color: transparent;\n",
              "      border-right-color: var(--fill-color);\n",
              "    }\n",
              "    80% {\n",
              "      border-color: transparent;\n",
              "      border-right-color: var(--fill-color);\n",
              "      border-bottom-color: var(--fill-color);\n",
              "    }\n",
              "    90% {\n",
              "      border-color: transparent;\n",
              "      border-bottom-color: var(--fill-color);\n",
              "    }\n",
              "  }\n",
              "</style>\n",
              "\n",
              "      <script>\n",
              "        async function quickchart(key) {\n",
              "          const quickchartButtonEl =\n",
              "            document.querySelector('#' + key + ' button');\n",
              "          quickchartButtonEl.disabled = true;  // To prevent multiple clicks.\n",
              "          quickchartButtonEl.classList.add('colab-df-spinner');\n",
              "          try {\n",
              "            const charts = await google.colab.kernel.invokeFunction(\n",
              "                'suggestCharts', [key], {});\n",
              "          } catch (error) {\n",
              "            console.error('Error during call to suggestCharts:', error);\n",
              "          }\n",
              "          quickchartButtonEl.classList.remove('colab-df-spinner');\n",
              "          quickchartButtonEl.classList.add('colab-df-quickchart-complete');\n",
              "        }\n",
              "        (() => {\n",
              "          let quickchartButtonEl =\n",
              "            document.querySelector('#df-678365b6-d09c-4724-9fcb-be6b10113602 button');\n",
              "          quickchartButtonEl.style.display =\n",
              "            google.colab.kernel.accessAllowed ? 'block' : 'none';\n",
              "        })();\n",
              "      </script>\n",
              "    </div>\n",
              "\n",
              "    </div>\n",
              "  </div>\n"
            ],
            "application/vnd.google.colaboratory.intrinsic+json": {
              "type": "dataframe",
              "summary": "{\n  \"name\": \"df[['Height', 'Weight', 'BMI']]\",\n  \"rows\": 5,\n  \"fields\": [\n    {\n      \"column\": \"Height\",\n      \"properties\": {\n        \"dtype\": \"number\",\n        \"std\": 12,\n        \"min\": 155,\n        \"max\": 183,\n        \"num_unique_values\": 5,\n        \"samples\": [\n          180,\n          166,\n          158\n        ],\n        \"semantic_type\": \"\",\n        \"description\": \"\"\n      }\n    },\n    {\n      \"column\": \"Weight\",\n      \"properties\": {\n        \"dtype\": \"number\",\n        \"std\": 16,\n        \"min\": 57,\n        \"max\": 93,\n        \"num_unique_values\": 5,\n        \"samples\": [\n          73,\n          88,\n          59\n        ],\n        \"semantic_type\": \"\",\n        \"description\": \"\"\n      }\n    },\n    {\n      \"column\": \"BMI\",\n      \"properties\": {\n        \"dtype\": \"number\",\n        \"std\": 3.9093584492855085,\n        \"min\": 22.5309,\n        \"max\": 31.935,\n        \"num_unique_values\": 5,\n        \"samples\": [\n          22.5309,\n          31.935,\n          23.634\n        ],\n        \"semantic_type\": \"\",\n        \"description\": \"\"\n      }\n    }\n  ]\n}"
            }
          },
          "metadata": {},
          "execution_count": 26
        }
      ]
    },
    {
      "cell_type": "markdown",
      "source": [
        "making Categaory in BMI"
      ],
      "metadata": {
        "id": "e685PceIA1T6"
      }
    },
    {
      "cell_type": "code",
      "source": [
        "def bmi_category(bmi):\n",
        "    if bmi < 18.5:\n",
        "        return 'Underweight'\n",
        "    elif bmi < 25:\n",
        "        return 'Normal'\n",
        "    elif bmi < 30:\n",
        "        return 'Overweight'\n",
        "    else:\n",
        "        return 'Obese'\n",
        "\n",
        "df['BMI_category'] = df['BMI'].apply(bmi_category)\n",
        "\n",
        "df[['BMI','BMI_category']].head()"
      ],
      "metadata": {
        "colab": {
          "base_uri": "https://localhost:8080/",
          "height": 206
        },
        "id": "BpA4u8a5-Gmq",
        "outputId": "d3d341cf-9d8e-4f81-97ba-6fe030349557"
      },
      "execution_count": 27,
      "outputs": [
        {
          "output_type": "execute_result",
          "data": {
            "text/plain": [
              "       BMI BMI_category\n",
              "0  23.7253       Normal\n",
              "1  22.5309       Normal\n",
              "2  23.6340       Normal\n",
              "3  27.7703   Overweight\n",
              "4  31.9350        Obese"
            ],
            "text/html": [
              "\n",
              "  <div id=\"df-5bb21959-0716-4439-a844-38cdc1e21170\" class=\"colab-df-container\">\n",
              "    <div>\n",
              "<style scoped>\n",
              "    .dataframe tbody tr th:only-of-type {\n",
              "        vertical-align: middle;\n",
              "    }\n",
              "\n",
              "    .dataframe tbody tr th {\n",
              "        vertical-align: top;\n",
              "    }\n",
              "\n",
              "    .dataframe thead th {\n",
              "        text-align: right;\n",
              "    }\n",
              "</style>\n",
              "<table border=\"1\" class=\"dataframe\">\n",
              "  <thead>\n",
              "    <tr style=\"text-align: right;\">\n",
              "      <th></th>\n",
              "      <th>BMI</th>\n",
              "      <th>BMI_category</th>\n",
              "    </tr>\n",
              "  </thead>\n",
              "  <tbody>\n",
              "    <tr>\n",
              "      <th>0</th>\n",
              "      <td>23.7253</td>\n",
              "      <td>Normal</td>\n",
              "    </tr>\n",
              "    <tr>\n",
              "      <th>1</th>\n",
              "      <td>22.5309</td>\n",
              "      <td>Normal</td>\n",
              "    </tr>\n",
              "    <tr>\n",
              "      <th>2</th>\n",
              "      <td>23.6340</td>\n",
              "      <td>Normal</td>\n",
              "    </tr>\n",
              "    <tr>\n",
              "      <th>3</th>\n",
              "      <td>27.7703</td>\n",
              "      <td>Overweight</td>\n",
              "    </tr>\n",
              "    <tr>\n",
              "      <th>4</th>\n",
              "      <td>31.9350</td>\n",
              "      <td>Obese</td>\n",
              "    </tr>\n",
              "  </tbody>\n",
              "</table>\n",
              "</div>\n",
              "    <div class=\"colab-df-buttons\">\n",
              "\n",
              "  <div class=\"colab-df-container\">\n",
              "    <button class=\"colab-df-convert\" onclick=\"convertToInteractive('df-5bb21959-0716-4439-a844-38cdc1e21170')\"\n",
              "            title=\"Convert this dataframe to an interactive table.\"\n",
              "            style=\"display:none;\">\n",
              "\n",
              "  <svg xmlns=\"http://www.w3.org/2000/svg\" height=\"24px\" viewBox=\"0 -960 960 960\">\n",
              "    <path d=\"M120-120v-720h720v720H120Zm60-500h600v-160H180v160Zm220 220h160v-160H400v160Zm0 220h160v-160H400v160ZM180-400h160v-160H180v160Zm440 0h160v-160H620v160ZM180-180h160v-160H180v160Zm440 0h160v-160H620v160Z\"/>\n",
              "  </svg>\n",
              "    </button>\n",
              "\n",
              "  <style>\n",
              "    .colab-df-container {\n",
              "      display:flex;\n",
              "      gap: 12px;\n",
              "    }\n",
              "\n",
              "    .colab-df-convert {\n",
              "      background-color: #E8F0FE;\n",
              "      border: none;\n",
              "      border-radius: 50%;\n",
              "      cursor: pointer;\n",
              "      display: none;\n",
              "      fill: #1967D2;\n",
              "      height: 32px;\n",
              "      padding: 0 0 0 0;\n",
              "      width: 32px;\n",
              "    }\n",
              "\n",
              "    .colab-df-convert:hover {\n",
              "      background-color: #E2EBFA;\n",
              "      box-shadow: 0px 1px 2px rgba(60, 64, 67, 0.3), 0px 1px 3px 1px rgba(60, 64, 67, 0.15);\n",
              "      fill: #174EA6;\n",
              "    }\n",
              "\n",
              "    .colab-df-buttons div {\n",
              "      margin-bottom: 4px;\n",
              "    }\n",
              "\n",
              "    [theme=dark] .colab-df-convert {\n",
              "      background-color: #3B4455;\n",
              "      fill: #D2E3FC;\n",
              "    }\n",
              "\n",
              "    [theme=dark] .colab-df-convert:hover {\n",
              "      background-color: #434B5C;\n",
              "      box-shadow: 0px 1px 3px 1px rgba(0, 0, 0, 0.15);\n",
              "      filter: drop-shadow(0px 1px 2px rgba(0, 0, 0, 0.3));\n",
              "      fill: #FFFFFF;\n",
              "    }\n",
              "  </style>\n",
              "\n",
              "    <script>\n",
              "      const buttonEl =\n",
              "        document.querySelector('#df-5bb21959-0716-4439-a844-38cdc1e21170 button.colab-df-convert');\n",
              "      buttonEl.style.display =\n",
              "        google.colab.kernel.accessAllowed ? 'block' : 'none';\n",
              "\n",
              "      async function convertToInteractive(key) {\n",
              "        const element = document.querySelector('#df-5bb21959-0716-4439-a844-38cdc1e21170');\n",
              "        const dataTable =\n",
              "          await google.colab.kernel.invokeFunction('convertToInteractive',\n",
              "                                                    [key], {});\n",
              "        if (!dataTable) return;\n",
              "\n",
              "        const docLinkHtml = 'Like what you see? Visit the ' +\n",
              "          '<a target=\"_blank\" href=https://colab.research.google.com/notebooks/data_table.ipynb>data table notebook</a>'\n",
              "          + ' to learn more about interactive tables.';\n",
              "        element.innerHTML = '';\n",
              "        dataTable['output_type'] = 'display_data';\n",
              "        await google.colab.output.renderOutput(dataTable, element);\n",
              "        const docLink = document.createElement('div');\n",
              "        docLink.innerHTML = docLinkHtml;\n",
              "        element.appendChild(docLink);\n",
              "      }\n",
              "    </script>\n",
              "  </div>\n",
              "\n",
              "\n",
              "    <div id=\"df-b28d2e5f-5d1f-43b5-9f5b-bad72f434d29\">\n",
              "      <button class=\"colab-df-quickchart\" onclick=\"quickchart('df-b28d2e5f-5d1f-43b5-9f5b-bad72f434d29')\"\n",
              "                title=\"Suggest charts\"\n",
              "                style=\"display:none;\">\n",
              "\n",
              "<svg xmlns=\"http://www.w3.org/2000/svg\" height=\"24px\"viewBox=\"0 0 24 24\"\n",
              "     width=\"24px\">\n",
              "    <g>\n",
              "        <path d=\"M19 3H5c-1.1 0-2 .9-2 2v14c0 1.1.9 2 2 2h14c1.1 0 2-.9 2-2V5c0-1.1-.9-2-2-2zM9 17H7v-7h2v7zm4 0h-2V7h2v10zm4 0h-2v-4h2v4z\"/>\n",
              "    </g>\n",
              "</svg>\n",
              "      </button>\n",
              "\n",
              "<style>\n",
              "  .colab-df-quickchart {\n",
              "      --bg-color: #E8F0FE;\n",
              "      --fill-color: #1967D2;\n",
              "      --hover-bg-color: #E2EBFA;\n",
              "      --hover-fill-color: #174EA6;\n",
              "      --disabled-fill-color: #AAA;\n",
              "      --disabled-bg-color: #DDD;\n",
              "  }\n",
              "\n",
              "  [theme=dark] .colab-df-quickchart {\n",
              "      --bg-color: #3B4455;\n",
              "      --fill-color: #D2E3FC;\n",
              "      --hover-bg-color: #434B5C;\n",
              "      --hover-fill-color: #FFFFFF;\n",
              "      --disabled-bg-color: #3B4455;\n",
              "      --disabled-fill-color: #666;\n",
              "  }\n",
              "\n",
              "  .colab-df-quickchart {\n",
              "    background-color: var(--bg-color);\n",
              "    border: none;\n",
              "    border-radius: 50%;\n",
              "    cursor: pointer;\n",
              "    display: none;\n",
              "    fill: var(--fill-color);\n",
              "    height: 32px;\n",
              "    padding: 0;\n",
              "    width: 32px;\n",
              "  }\n",
              "\n",
              "  .colab-df-quickchart:hover {\n",
              "    background-color: var(--hover-bg-color);\n",
              "    box-shadow: 0 1px 2px rgba(60, 64, 67, 0.3), 0 1px 3px 1px rgba(60, 64, 67, 0.15);\n",
              "    fill: var(--button-hover-fill-color);\n",
              "  }\n",
              "\n",
              "  .colab-df-quickchart-complete:disabled,\n",
              "  .colab-df-quickchart-complete:disabled:hover {\n",
              "    background-color: var(--disabled-bg-color);\n",
              "    fill: var(--disabled-fill-color);\n",
              "    box-shadow: none;\n",
              "  }\n",
              "\n",
              "  .colab-df-spinner {\n",
              "    border: 2px solid var(--fill-color);\n",
              "    border-color: transparent;\n",
              "    border-bottom-color: var(--fill-color);\n",
              "    animation:\n",
              "      spin 1s steps(1) infinite;\n",
              "  }\n",
              "\n",
              "  @keyframes spin {\n",
              "    0% {\n",
              "      border-color: transparent;\n",
              "      border-bottom-color: var(--fill-color);\n",
              "      border-left-color: var(--fill-color);\n",
              "    }\n",
              "    20% {\n",
              "      border-color: transparent;\n",
              "      border-left-color: var(--fill-color);\n",
              "      border-top-color: var(--fill-color);\n",
              "    }\n",
              "    30% {\n",
              "      border-color: transparent;\n",
              "      border-left-color: var(--fill-color);\n",
              "      border-top-color: var(--fill-color);\n",
              "      border-right-color: var(--fill-color);\n",
              "    }\n",
              "    40% {\n",
              "      border-color: transparent;\n",
              "      border-right-color: var(--fill-color);\n",
              "      border-top-color: var(--fill-color);\n",
              "    }\n",
              "    60% {\n",
              "      border-color: transparent;\n",
              "      border-right-color: var(--fill-color);\n",
              "    }\n",
              "    80% {\n",
              "      border-color: transparent;\n",
              "      border-right-color: var(--fill-color);\n",
              "      border-bottom-color: var(--fill-color);\n",
              "    }\n",
              "    90% {\n",
              "      border-color: transparent;\n",
              "      border-bottom-color: var(--fill-color);\n",
              "    }\n",
              "  }\n",
              "</style>\n",
              "\n",
              "      <script>\n",
              "        async function quickchart(key) {\n",
              "          const quickchartButtonEl =\n",
              "            document.querySelector('#' + key + ' button');\n",
              "          quickchartButtonEl.disabled = true;  // To prevent multiple clicks.\n",
              "          quickchartButtonEl.classList.add('colab-df-spinner');\n",
              "          try {\n",
              "            const charts = await google.colab.kernel.invokeFunction(\n",
              "                'suggestCharts', [key], {});\n",
              "          } catch (error) {\n",
              "            console.error('Error during call to suggestCharts:', error);\n",
              "          }\n",
              "          quickchartButtonEl.classList.remove('colab-df-spinner');\n",
              "          quickchartButtonEl.classList.add('colab-df-quickchart-complete');\n",
              "        }\n",
              "        (() => {\n",
              "          let quickchartButtonEl =\n",
              "            document.querySelector('#df-b28d2e5f-5d1f-43b5-9f5b-bad72f434d29 button');\n",
              "          quickchartButtonEl.style.display =\n",
              "            google.colab.kernel.accessAllowed ? 'block' : 'none';\n",
              "        })();\n",
              "      </script>\n",
              "    </div>\n",
              "\n",
              "    </div>\n",
              "  </div>\n"
            ],
            "application/vnd.google.colaboratory.intrinsic+json": {
              "type": "dataframe",
              "summary": "{\n  \"name\": \"df[['BMI','BMI_category']]\",\n  \"rows\": 5,\n  \"fields\": [\n    {\n      \"column\": \"BMI\",\n      \"properties\": {\n        \"dtype\": \"number\",\n        \"std\": 3.9093584492855085,\n        \"min\": 22.5309,\n        \"max\": 31.935,\n        \"num_unique_values\": 5,\n        \"samples\": [\n          22.5309,\n          31.935,\n          23.634\n        ],\n        \"semantic_type\": \"\",\n        \"description\": \"\"\n      }\n    },\n    {\n      \"column\": \"BMI_category\",\n      \"properties\": {\n        \"dtype\": \"string\",\n        \"num_unique_values\": 3,\n        \"samples\": [\n          \"Normal\",\n          \"Overweight\",\n          \"Obese\"\n        ],\n        \"semantic_type\": \"\",\n        \"description\": \"\"\n      }\n    }\n  ]\n}"
            }
          },
          "metadata": {},
          "execution_count": 27
        }
      ]
    },
    {
      "cell_type": "code",
      "source": [
        "df.groupby('ill')['BMI_category'].value_counts()"
      ],
      "metadata": {
        "colab": {
          "base_uri": "https://localhost:8080/",
          "height": 366
        },
        "id": "1WX7WBDVHju7",
        "outputId": "79d1d2b7-6d84-4085-e45e-965bf676c0a5"
      },
      "execution_count": 28,
      "outputs": [
        {
          "output_type": "execute_result",
          "data": {
            "text/plain": [
              "ill  BMI_category\n",
              "0    Normal           62\n",
              "     Obese            62\n",
              "     Overweight       56\n",
              "     Underweight      11\n",
              "1    Overweight      269\n",
              "     Normal          257\n",
              "     Obese           241\n",
              "     Underweight      28\n",
              "Name: count, dtype: int64"
            ],
            "text/html": [
              "<div>\n",
              "<style scoped>\n",
              "    .dataframe tbody tr th:only-of-type {\n",
              "        vertical-align: middle;\n",
              "    }\n",
              "\n",
              "    .dataframe tbody tr th {\n",
              "        vertical-align: top;\n",
              "    }\n",
              "\n",
              "    .dataframe thead th {\n",
              "        text-align: right;\n",
              "    }\n",
              "</style>\n",
              "<table border=\"1\" class=\"dataframe\">\n",
              "  <thead>\n",
              "    <tr style=\"text-align: right;\">\n",
              "      <th></th>\n",
              "      <th></th>\n",
              "      <th>count</th>\n",
              "    </tr>\n",
              "    <tr>\n",
              "      <th>ill</th>\n",
              "      <th>BMI_category</th>\n",
              "      <th></th>\n",
              "    </tr>\n",
              "  </thead>\n",
              "  <tbody>\n",
              "    <tr>\n",
              "      <th rowspan=\"4\" valign=\"top\">0</th>\n",
              "      <th>Normal</th>\n",
              "      <td>62</td>\n",
              "    </tr>\n",
              "    <tr>\n",
              "      <th>Obese</th>\n",
              "      <td>62</td>\n",
              "    </tr>\n",
              "    <tr>\n",
              "      <th>Overweight</th>\n",
              "      <td>56</td>\n",
              "    </tr>\n",
              "    <tr>\n",
              "      <th>Underweight</th>\n",
              "      <td>11</td>\n",
              "    </tr>\n",
              "    <tr>\n",
              "      <th rowspan=\"4\" valign=\"top\">1</th>\n",
              "      <th>Overweight</th>\n",
              "      <td>269</td>\n",
              "    </tr>\n",
              "    <tr>\n",
              "      <th>Normal</th>\n",
              "      <td>257</td>\n",
              "    </tr>\n",
              "    <tr>\n",
              "      <th>Obese</th>\n",
              "      <td>241</td>\n",
              "    </tr>\n",
              "    <tr>\n",
              "      <th>Underweight</th>\n",
              "      <td>28</td>\n",
              "    </tr>\n",
              "  </tbody>\n",
              "</table>\n",
              "</div><br><label><b>dtype:</b> int64</label>"
            ]
          },
          "metadata": {},
          "execution_count": 28
        }
      ]
    },
    {
      "cell_type": "markdown",
      "source": [
        "`🔹 BMI Category Distribution by Illness Status`\n",
        "\n",
        "`Variables`\n",
        "- **ill**: 0 = Not ill , 1 = ill  \n",
        "- **BMI_category**: Underweight, Normal, Overweight, Obese  \n",
        "\n",
        "---\n",
        "\n",
        "`Frequency Table`\n",
        "\n",
        "| ill | BMI_category | Count |\n",
        "|-----|--------------|-------|\n",
        "| 0   | Normal       | 62    |\n",
        "| 0   | Obese        | 62    |\n",
        "| 0   | Overweight   | 56    |\n",
        "| 0   | Underweight  | 11    |\n",
        "| 1   | Overweight   | 269   |\n",
        "| 1   | Normal       | 257   |\n",
        "| 1   | Obese        | 241   |\n",
        "| 1   | Underweight  | 28    |\n",
        "\n",
        "---\n",
        "\n",
        "`Interpretation`\n",
        "- Among **non-ill people (ill=0)**: Normal and Obese categories are equally common, followed by Overweight, and Underweight is the least.  \n",
        "- Among **ill people (ill=1)**: Overweight is most common, followed closely by Normal and Obese, with Underweight being the least.  \n",
        "\n",
        "👉 This shows that **illness status has some association with BMI distribution**, e.g., more ill people are Overweight or Obese compared to non-ill people.\n"
      ],
      "metadata": {
        "id": "HydZmn-_INAe"
      }
    },
    {
      "cell_type": "markdown",
      "source": [
        "#### BMI vs PremiumPrice"
      ],
      "metadata": {
        "id": "9XEsnmJvBCSL"
      }
    },
    {
      "cell_type": "code",
      "source": [
        "\n",
        "# Step 1: Group and count\n",
        "bmi_premium_counts = df.groupby('BMI_category')['PremiumPrice'].value_counts().reset_index(name='Count')\n",
        "\n",
        "# Step 2: Plot\n",
        "plt.figure(figsize=(12,6))\n",
        "sns.barplot(\n",
        "    data=bmi_premium_counts,\n",
        "    x='BMI_category',\n",
        "    y='Count',\n",
        "    hue='PremiumPrice',  # Alag-alag color for each PremiumPrice\n",
        "    palette='viridis'\n",
        ")\n",
        "\n",
        "plt.title('Premium Price Distribution across BMI Categories')\n",
        "plt.xlabel('BMI Category')\n",
        "plt.ylabel('Number of People')\n",
        "plt.legend(title='PremiumPrice')\n",
        "plt.xticks(rotation=30)\n",
        "plt.show()"
      ],
      "metadata": {
        "colab": {
          "base_uri": "https://localhost:8080/",
          "height": 607
        },
        "id": "C8DdOqwhBCDk",
        "outputId": "8f1c4620-aad5-4311-f563-1aa45445f12d"
      },
      "execution_count": 29,
      "outputs": [
        {
          "output_type": "display_data",
          "data": {
            "text/plain": [
              "<Figure size 1200x600 with 1 Axes>"
            ],
            "image/png": "[encoded data removed]"
          },
          "metadata": {}
        }
      ]
    },
    {
      "cell_type": "markdown",
      "source": [
        "**Key Insights:**\n",
        "\n",
        "1. Premiums of ₹20,000–₹25,000 dominate across all BMI categories.  \n",
        "2. Overweight individuals face the highest premiums, with many paying ₹30,000–₹35,000.  \n",
        "3. Normal and underweight categories mostly pay lower premiums (₹15,000–₹25,000).  \n",
        "4. Obese individuals show a shift toward higher premiums compared to normal BMI.  \n",
        "\n",
        "**Takeaway:** Premium costs rise with higher BMI, especially in overweight and obese groups.\n"
      ],
      "metadata": {
        "id": "guR6zjQgGrXe"
      }
    },
    {
      "cell_type": "code",
      "source": [
        "df.info()"
      ],
      "metadata": {
        "colab": {
          "base_uri": "https://localhost:8080/"
        },
        "id": "WLSrtIeeG2Bt",
        "outputId": "a6ec5780-d522-45ab-a46c-e5a5f0ba1cd5"
      },
      "execution_count": 30,
      "outputs": [
        {
          "output_type": "stream",
          "name": "stdout",
          "text": [
            "<class 'pandas.core.frame.DataFrame'>\n",
            "RangeIndex: 986 entries, 0 to 985\n",
            "Data columns (total 19 columns):\n",
            " #   Column                   Non-Null Count  Dtype   \n",
            "---  ------                   --------------  -----   \n",
            " 0   Age                      986 non-null    int64   \n",
            " 1   Diabetes                 986 non-null    int64   \n",
            " 2   BloodPressureProblems    986 non-null    int64   \n",
            " 3   AnyTransplants           986 non-null    int64   \n",
            " 4   AnyChronicDiseases       986 non-null    int64   \n",
            " 5   Height                   986 non-null    int64   \n",
            " 6   Weight                   986 non-null    int64   \n",
            " 7   KnownAllergies           986 non-null    int64   \n",
            " 8   HistoryOfCancerInFamily  986 non-null    int64   \n",
            " 9   NumberOfMajorSurgeries   986 non-null    int64   \n",
            " 10  PremiumPrice             986 non-null    int64   \n",
            " 11  Age_bin                  986 non-null    category\n",
            " 12  Height_bin               986 non-null    category\n",
            " 13  Weight_bin               986 non-null    category\n",
            " 14  Premium_bin              784 non-null    category\n",
            " 15  ill                      986 non-null    int64   \n",
            " 16  Height_m                 986 non-null    float64 \n",
            " 17  BMI                      986 non-null    float64 \n",
            " 18  BMI_category             986 non-null    object  \n",
            "dtypes: category(4), float64(2), int64(12), object(1)\n",
            "memory usage: 120.5+ KB\n"
          ]
        }
      ]
    },
    {
      "cell_type": "markdown",
      "source": [
        "# Using SM machine for the Feature Selection"
      ],
      "metadata": {
        "id": "cEEaT5bZqpc7"
      }
    },
    {
      "cell_type": "code",
      "source": [
        "import scipy.stats as stats\n",
        "import pandas as pd\n",
        "\n",
        "# Target column: PremiumPrice (binary)\n",
        "target = 'PremiumPrice'\n",
        "\n",
        "results = []\n",
        "\n",
        "for col in df.columns:\n",
        "    if col == target:\n",
        "        continue\n",
        "\n",
        "    if df[col].dtype == 'object' or str(df[col].dtype) == 'category':\n",
        "        # Categorical vs categorical → Chi-square\n",
        "        contingency = pd.crosstab(df[target], df[col])\n",
        "        chi2, p, dof, ex = stats.chi2_contingency(contingency)\n",
        "        results.append({'Column': col, 'Test': 'Chi-square', 'p-value': p})\n",
        "    else:\n",
        "        # Continuous vs categorical → t-test (if binary) / ANOVA (if more than 2 categories)\n",
        "        if df[target].nunique() == 2:\n",
        "            group1 = df[df[target]==0][col]\n",
        "            group2 = df[df[target]==1][col]\n",
        "            t_stat, p = stats.ttest_ind(group1, group2)\n",
        "            results.append({'Column': col, 'Test': 't-test', 'p-value': p})\n",
        "        else:\n",
        "            # For more than 2 categories, ANOVA\n",
        "            groups = [df[df[target]==cat][col] for cat in df[target].unique()]\n",
        "            f_stat, p = stats.f_oneway(*groups)\n",
        "            results.append({'Column': col, 'Test': 'ANOVA', 'p-value': p})\n",
        "\n",
        "# Convert to DataFrame\n",
        "results_df = pd.DataFrame(results).sort_values('p-value')\n",
        "results_df\n"
      ],
      "metadata": {
        "id": "PIkzDV3zhGIX",
        "colab": {
          "base_uri": "https://localhost:8080/",
          "height": 613
        },
        "outputId": "94e65a94-7b33-47a6-a75c-13b9ac79ee98"
      },
      "execution_count": 31,
      "outputs": [
        {
          "output_type": "execute_result",
          "data": {
            "text/plain": [
              "                     Column        Test        p-value\n",
              "13              Premium_bin  Chi-square   0.000000e+00\n",
              "0                       Age       ANOVA  1.044830e-317\n",
              "10                  Age_bin  Chi-square  2.017166e-257\n",
              "3            AnyTransplants       ANOVA  4.725489e-201\n",
              "9    NumberOfMajorSurgeries       ANOVA  7.717742e-184\n",
              "4        AnyChronicDiseases       ANOVA   4.053878e-81\n",
              "8   HistoryOfCancerInFamily       ANOVA   4.156906e-62\n",
              "12               Weight_bin  Chi-square   7.626786e-55\n",
              "6                    Weight       ANOVA   4.657291e-44\n",
              "16                      BMI       ANOVA   4.712169e-22\n",
              "14                      ill       ANOVA   1.090503e-13\n",
              "17             BMI_category  Chi-square   1.289809e-13\n",
              "2     BloodPressureProblems       ANOVA   1.924101e-10\n",
              "1                  Diabetes       ANOVA   3.397406e-06\n",
              "7            KnownAllergies       ANOVA   7.123335e-04\n",
              "11               Height_bin  Chi-square   6.597659e-01\n",
              "15                 Height_m       ANOVA   8.632888e-01\n",
              "5                    Height       ANOVA   8.632888e-01"
            ],
            "text/html": [
              "\n",
              "  <div id=\"df-051dc973-cec5-481d-b93b-cb942553d411\" class=\"colab-df-container\">\n",
              "    <div>\n",
              "<style scoped>\n",
              "    .dataframe tbody tr th:only-of-type {\n",
              "        vertical-align: middle;\n",
              "    }\n",
              "\n",
              "    .dataframe tbody tr th {\n",
              "        vertical-align: top;\n",
              "    }\n",
              "\n",
              "    .dataframe thead th {\n",
              "        text-align: right;\n",
              "    }\n",
              "</style>\n",
              "<table border=\"1\" class=\"dataframe\">\n",
              "  <thead>\n",
              "    <tr style=\"text-align: right;\">\n",
              "      <th></th>\n",
              "      <th>Column</th>\n",
              "      <th>Test</th>\n",
              "      <th>p-value</th>\n",
              "    </tr>\n",
              "  </thead>\n",
              "  <tbody>\n",
              "    <tr>\n",
              "      <th>13</th>\n",
              "      <td>Premium_bin</td>\n",
              "      <td>Chi-square</td>\n",
              "      <td>0.000000e+00</td>\n",
              "    </tr>\n",
              "    <tr>\n",
              "      <th>0</th>\n",
              "      <td>Age</td>\n",
              "      <td>ANOVA</td>\n",
              "      <td>1.044830e-317</td>\n",
              "    </tr>\n",
              "    <tr>\n",
              "      <th>10</th>\n",
              "      <td>Age_bin</td>\n",
              "      <td>Chi-square</td>\n",
              "      <td>2.017166e-257</td>\n",
              "    </tr>\n",
              "    <tr>\n",
              "      <th>3</th>\n",
              "      <td>AnyTransplants</td>\n",
              "      <td>ANOVA</td>\n",
              "      <td>4.725489e-201</td>\n",
              "    </tr>\n",
              "    <tr>\n",
              "      <th>9</th>\n",
              "      <td>NumberOfMajorSurgeries</td>\n",
              "      <td>ANOVA</td>\n",
              "      <td>7.717742e-184</td>\n",
              "    </tr>\n",
              "    <tr>\n",
              "      <th>4</th>\n",
              "      <td>AnyChronicDiseases</td>\n",
              "      <td>ANOVA</td>\n",
              "      <td>4.053878e-81</td>\n",
              "    </tr>\n",
              "    <tr>\n",
              "      <th>8</th>\n",
              "      <td>HistoryOfCancerInFamily</td>\n",
              "      <td>ANOVA</td>\n",
              "      <td>4.156906e-62</td>\n",
              "    </tr>\n",
              "    <tr>\n",
              "      <th>12</th>\n",
              "      <td>Weight_bin</td>\n",
              "      <td>Chi-square</td>\n",
              "      <td>7.626786e-55</td>\n",
              "    </tr>\n",
              "    <tr>\n",
              "      <th>6</th>\n",
              "      <td>Weight</td>\n",
              "      <td>ANOVA</td>\n",
              "      <td>4.657291e-44</td>\n",
              "    </tr>\n",
              "    <tr>\n",
              "      <th>16</th>\n",
              "      <td>BMI</td>\n",
              "      <td>ANOVA</td>\n",
              "      <td>4.712169e-22</td>\n",
              "    </tr>\n",
              "    <tr>\n",
              "      <th>14</th>\n",
              "      <td>ill</td>\n",
              "      <td>ANOVA</td>\n",
              "      <td>1.090503e-13</td>\n",
              "    </tr>\n",
              "    <tr>\n",
              "      <th>17</th>\n",
              "      <td>BMI_category</td>\n",
              "      <td>Chi-square</td>\n",
              "      <td>1.289809e-13</td>\n",
              "    </tr>\n",
              "    <tr>\n",
              "      <th>2</th>\n",
              "      <td>BloodPressureProblems</td>\n",
              "      <td>ANOVA</td>\n",
              "      <td>1.924101e-10</td>\n",
              "    </tr>\n",
              "    <tr>\n",
              "      <th>1</th>\n",
              "      <td>Diabetes</td>\n",
              "      <td>ANOVA</td>\n",
              "      <td>3.397406e-06</td>\n",
              "    </tr>\n",
              "    <tr>\n",
              "      <th>7</th>\n",
              "      <td>KnownAllergies</td>\n",
              "      <td>ANOVA</td>\n",
              "      <td>7.123335e-04</td>\n",
              "    </tr>\n",
              "    <tr>\n",
              "      <th>11</th>\n",
              "      <td>Height_bin</td>\n",
              "      <td>Chi-square</td>\n",
              "      <td>6.597659e-01</td>\n",
              "    </tr>\n",
              "    <tr>\n",
              "      <th>15</th>\n",
              "      <td>Height_m</td>\n",
              "      <td>ANOVA</td>\n",
              "      <td>8.632888e-01</td>\n",
              "    </tr>\n",
              "    <tr>\n",
              "      <th>5</th>\n",
              "      <td>Height</td>\n",
              "      <td>ANOVA</td>\n",
              "      <td>8.632888e-01</td>\n",
              "    </tr>\n",
              "  </tbody>\n",
              "</table>\n",
              "</div>\n",
              "    <div class=\"colab-df-buttons\">\n",
              "\n",
              "  <div class=\"colab-df-container\">\n",
              "    <button class=\"colab-df-convert\" onclick=\"convertToInteractive('df-051dc973-cec5-481d-b93b-cb942553d411')\"\n",
              "            title=\"Convert this dataframe to an interactive table.\"\n",
              "            style=\"display:none;\">\n",
              "\n",
              "  <svg xmlns=\"http://www.w3.org/2000/svg\" height=\"24px\" viewBox=\"0 -960 960 960\">\n",
              "    <path d=\"M120-120v-720h720v720H120Zm60-500h600v-160H180v160Zm220 220h160v-160H400v160Zm0 220h160v-160H400v160ZM180-400h160v-160H180v160Zm440 0h160v-160H620v160ZM180-180h160v-160H180v160Zm440 0h160v-160H620v160Z\"/>\n",
              "  </svg>\n",
              "    </button>\n",
              "\n",
              "  <style>\n",
              "    .colab-df-container {\n",
              "      display:flex;\n",
              "      gap: 12px;\n",
              "    }\n",
              "\n",
              "    .colab-df-convert {\n",
              "      background-color: #E8F0FE;\n",
              "      border: none;\n",
              "      border-radius: 50%;\n",
              "      cursor: pointer;\n",
              "      display: none;\n",
              "      fill: #1967D2;\n",
              "      height: 32px;\n",
              "      padding: 0 0 0 0;\n",
              "      width: 32px;\n",
              "    }\n",
              "\n",
              "    .colab-df-convert:hover {\n",
              "      background-color: #E2EBFA;\n",
              "      box-shadow: 0px 1px 2px rgba(60, 64, 67, 0.3), 0px 1px 3px 1px rgba(60, 64, 67, 0.15);\n",
              "      fill: #174EA6;\n",
              "    }\n",
              "\n",
              "    .colab-df-buttons div {\n",
              "      margin-bottom: 4px;\n",
              "    }\n",
              "\n",
              "    [theme=dark] .colab-df-convert {\n",
              "      background-color: #3B4455;\n",
              "      fill: #D2E3FC;\n",
              "    }\n",
              "\n",
              "    [theme=dark] .colab-df-convert:hover {\n",
              "      background-color: #434B5C;\n",
              "      box-shadow: 0px 1px 3px 1px rgba(0, 0, 0, 0.15);\n",
              "      filter: drop-shadow(0px 1px 2px rgba(0, 0, 0, 0.3));\n",
              "      fill: #FFFFFF;\n",
              "    }\n",
              "  </style>\n",
              "\n",
              "    <script>\n",
              "      const buttonEl =\n",
              "        document.querySelector('#df-051dc973-cec5-481d-b93b-cb942553d411 button.colab-df-convert');\n",
              "      buttonEl.style.display =\n",
              "        google.colab.kernel.accessAllowed ? 'block' : 'none';\n",
              "\n",
              "      async function convertToInteractive(key) {\n",
              "        const element = document.querySelector('#df-051dc973-cec5-481d-b93b-cb942553d411');\n",
              "        const dataTable =\n",
              "          await google.colab.kernel.invokeFunction('convertToInteractive',\n",
              "                                                    [key], {});\n",
              "        if (!dataTable) return;\n",
              "\n",
              "        const docLinkHtml = 'Like what you see? Visit the ' +\n",
              "          '<a target=\"_blank\" href=https://colab.research.google.com/notebooks/data_table.ipynb>data table notebook</a>'\n",
              "          + ' to learn more about interactive tables.';\n",
              "        element.innerHTML = '';\n",
              "        dataTable['output_type'] = 'display_data';\n",
              "        await google.colab.output.renderOutput(dataTable, element);\n",
              "        const docLink = document.createElement('div');\n",
              "        docLink.innerHTML = docLinkHtml;\n",
              "        element.appendChild(docLink);\n",
              "      }\n",
              "    </script>\n",
              "  </div>\n",
              "\n",
              "\n",
              "    <div id=\"df-d9e37c32-0ce3-4780-a395-16a8be7bc613\">\n",
              "      <button class=\"colab-df-quickchart\" onclick=\"quickchart('df-d9e37c32-0ce3-4780-a395-16a8be7bc613')\"\n",
              "                title=\"Suggest charts\"\n",
              "                style=\"display:none;\">\n",
              "\n",
              "<svg xmlns=\"http://www.w3.org/2000/svg\" height=\"24px\"viewBox=\"0 0 24 24\"\n",
              "     width=\"24px\">\n",
              "    <g>\n",
              "        <path d=\"M19 3H5c-1.1 0-2 .9-2 2v14c0 1.1.9 2 2 2h14c1.1 0 2-.9 2-2V5c0-1.1-.9-2-2-2zM9 17H7v-7h2v7zm4 0h-2V7h2v10zm4 0h-2v-4h2v4z\"/>\n",
              "    </g>\n",
              "</svg>\n",
              "      </button>\n",
              "\n",
              "<style>\n",
              "  .colab-df-quickchart {\n",
              "      --bg-color: #E8F0FE;\n",
              "      --fill-color: #1967D2;\n",
              "      --hover-bg-color: #E2EBFA;\n",
              "      --hover-fill-color: #174EA6;\n",
              "      --disabled-fill-color: #AAA;\n",
              "      --disabled-bg-color: #DDD;\n",
              "  }\n",
              "\n",
              "  [theme=dark] .colab-df-quickchart {\n",
              "      --bg-color: #3B4455;\n",
              "      --fill-color: #D2E3FC;\n",
              "      --hover-bg-color: #434B5C;\n",
              "      --hover-fill-color: #FFFFFF;\n",
              "      --disabled-bg-color: #3B4455;\n",
              "      --disabled-fill-color: #666;\n",
              "  }\n",
              "\n",
              "  .colab-df-quickchart {\n",
              "    background-color: var(--bg-color);\n",
              "    border: none;\n",
              "    border-radius: 50%;\n",
              "    cursor: pointer;\n",
              "    display: none;\n",
              "    fill: var(--fill-color);\n",
              "    height: 32px;\n",
              "    padding: 0;\n",
              "    width: 32px;\n",
              "  }\n",
              "\n",
              "  .colab-df-quickchart:hover {\n",
              "    background-color: var(--hover-bg-color);\n",
              "    box-shadow: 0 1px 2px rgba(60, 64, 67, 0.3), 0 1px 3px 1px rgba(60, 64, 67, 0.15);\n",
              "    fill: var(--button-hover-fill-color);\n",
              "  }\n",
              "\n",
              "  .colab-df-quickchart-complete:disabled,\n",
              "  .colab-df-quickchart-complete:disabled:hover {\n",
              "    background-color: var(--disabled-bg-color);\n",
              "    fill: var(--disabled-fill-color);\n",
              "    box-shadow: none;\n",
              "  }\n",
              "\n",
              "  .colab-df-spinner {\n",
              "    border: 2px solid var(--fill-color);\n",
              "    border-color: transparent;\n",
              "    border-bottom-color: var(--fill-color);\n",
              "    animation:\n",
              "      spin 1s steps(1) infinite;\n",
              "  }\n",
              "\n",
              "  @keyframes spin {\n",
              "    0% {\n",
              "      border-color: transparent;\n",
              "      border-bottom-color: var(--fill-color);\n",
              "      border-left-color: var(--fill-color);\n",
              "    }\n",
              "    20% {\n",
              "      border-color: transparent;\n",
              "      border-left-color: var(--fill-color);\n",
              "      border-top-color: var(--fill-color);\n",
              "    }\n",
              "    30% {\n",
              "      border-color: transparent;\n",
              "      border-left-color: var(--fill-color);\n",
              "      border-top-color: var(--fill-color);\n",
              "      border-right-color: var(--fill-color);\n",
              "    }\n",
              "    40% {\n",
              "      border-color: transparent;\n",
              "      border-right-color: var(--fill-color);\n",
              "      border-top-color: var(--fill-color);\n",
              "    }\n",
              "    60% {\n",
              "      border-color: transparent;\n",
              "      border-right-color: var(--fill-color);\n",
              "    }\n",
              "    80% {\n",
              "      border-color: transparent;\n",
              "      border-right-color: var(--fill-color);\n",
              "      border-bottom-color: var(--fill-color);\n",
              "    }\n",
              "    90% {\n",
              "      border-color: transparent;\n",
              "      border-bottom-color: var(--fill-color);\n",
              "    }\n",
              "  }\n",
              "</style>\n",
              "\n",
              "      <script>\n",
              "        async function quickchart(key) {\n",
              "          const quickchartButtonEl =\n",
              "            document.querySelector('#' + key + ' button');\n",
              "          quickchartButtonEl.disabled = true;  // To prevent multiple clicks.\n",
              "          quickchartButtonEl.classList.add('colab-df-spinner');\n",
              "          try {\n",
              "            const charts = await google.colab.kernel.invokeFunction(\n",
              "                'suggestCharts', [key], {});\n",
              "          } catch (error) {\n",
              "            console.error('Error during call to suggestCharts:', error);\n",
              "          }\n",
              "          quickchartButtonEl.classList.remove('colab-df-spinner');\n",
              "          quickchartButtonEl.classList.add('colab-df-quickchart-complete');\n",
              "        }\n",
              "        (() => {\n",
              "          let quickchartButtonEl =\n",
              "            document.querySelector('#df-d9e37c32-0ce3-4780-a395-16a8be7bc613 button');\n",
              "          quickchartButtonEl.style.display =\n",
              "            google.colab.kernel.accessAllowed ? 'block' : 'none';\n",
              "        })();\n",
              "      </script>\n",
              "    </div>\n",
              "\n",
              "  <div id=\"id_0844160a-c7f2-43a2-9c6e-1742c10ccc06\">\n",
              "    <style>\n",
              "      .colab-df-generate {\n",
              "        background-color: #E8F0FE;\n",
              "        border: none;\n",
              "        border-radius: 50%;\n",
              "        cursor: pointer;\n",
              "        display: none;\n",
              "        fill: #1967D2;\n",
              "        height: 32px;\n",
              "        padding: 0 0 0 0;\n",
              "        width: 32px;\n",
              "      }\n",
              "\n",
              "      .colab-df-generate:hover {\n",
              "        background-color: #E2EBFA;\n",
              "        box-shadow: 0px 1px 2px rgba(60, 64, 67, 0.3), 0px 1px 3px 1px rgba(60, 64, 67, 0.15);\n",
              "        fill: #174EA6;\n",
              "      }\n",
              "\n",
              "      [theme=dark] .colab-df-generate {\n",
              "        background-color: #3B4455;\n",
              "        fill: #D2E3FC;\n",
              "      }\n",
              "\n",
              "      [theme=dark] .colab-df-generate:hover {\n",
              "        background-color: #434B5C;\n",
              "        box-shadow: 0px 1px 3px 1px rgba(0, 0, 0, 0.15);\n",
              "        filter: drop-shadow(0px 1px 2px rgba(0, 0, 0, 0.3));\n",
              "        fill: #FFFFFF;\n",
              "      }\n",
              "    </style>\n",
              "    <button class=\"colab-df-generate\" onclick=\"generateWithVariable('results_df')\"\n",
              "            title=\"Generate code using this dataframe.\"\n",
              "            style=\"display:none;\">\n",
              "\n",
              "  <svg xmlns=\"http://www.w3.org/2000/svg\" height=\"24px\"viewBox=\"0 0 24 24\"\n",
              "       width=\"24px\">\n",
              "    <path d=\"M7,19H8.4L18.45,9,17,7.55,7,17.6ZM5,21V16.75L18.45,3.32a2,2,0,0,1,2.83,0l1.4,1.43a1.91,1.91,0,0,1,.58,1.4,1.91,1.91,0,0,1-.58,1.4L9.25,21ZM18.45,9,17,7.55Zm-12,3A5.31,5.31,0,0,0,4.9,8.1,5.31,5.31,0,0,0,1,6.5,5.31,5.31,0,0,0,4.9,4.9,5.31,5.31,0,0,0,6.5,1,5.31,5.31,0,0,0,8.1,4.9,5.31,5.31,0,0,0,12,6.5,5.46,5.46,0,0,0,6.5,12Z\"/>\n",
              "  </svg>\n",
              "    </button>\n",
              "    <script>\n",
              "      (() => {\n",
              "      const buttonEl =\n",
              "        document.querySelector('#id_0844160a-c7f2-43a2-9c6e-1742c10ccc06 button.colab-df-generate');\n",
              "      buttonEl.style.display =\n",
              "        google.colab.kernel.accessAllowed ? 'block' : 'none';\n",
              "\n",
              "      buttonEl.onclick = () => {\n",
              "        google.colab.notebook.generateWithVariable('results_df');\n",
              "      }\n",
              "      })();\n",
              "    </script>\n",
              "  </div>\n",
              "\n",
              "    </div>\n",
              "  </div>\n"
            ],
            "application/vnd.google.colaboratory.intrinsic+json": {
              "type": "dataframe",
              "variable_name": "results_df",
              "summary": "{\n  \"name\": \"results_df\",\n  \"rows\": 18,\n  \"fields\": [\n    {\n      \"column\": \"Column\",\n      \"properties\": {\n        \"dtype\": \"string\",\n        \"num_unique_values\": 18,\n        \"samples\": [\n          \"Premium_bin\",\n          \"Age\",\n          \"Weight\"\n        ],\n        \"semantic_type\": \"\",\n        \"description\": \"\"\n      }\n    },\n    {\n      \"column\": \"Test\",\n      \"properties\": {\n        \"dtype\": \"category\",\n        \"num_unique_values\": 2,\n        \"samples\": [\n          \"ANOVA\",\n          \"Chi-square\"\n        ],\n        \"semantic_type\": \"\",\n        \"description\": \"\"\n      }\n    },\n    {\n      \"column\": \"p-value\",\n      \"properties\": {\n        \"dtype\": \"number\",\n        \"std\": 0.3076732697675803,\n        \"min\": 0.0,\n        \"max\": 0.8632888255546621,\n        \"num_unique_values\": 17,\n        \"samples\": [\n          0.0,\n          1.0448303e-317\n        ],\n        \"semantic_type\": \"\",\n        \"description\": \"\"\n      }\n    }\n  ]\n}"
            }
          },
          "metadata": {},
          "execution_count": 31
        }
      ]
    },
    {
      "cell_type": "markdown",
      "source": [
        "\n",
        "`Interpretation`\n",
        "- **Significant columns (p < 0.05):** Strongly associated with PremiumPrice.  \n",
        "  Examples: `Age`, `BMI`, `Diabetes`, `ill`, `AnyChronicDiseases`, `Premium_bin`, etc.  \n",
        "\n",
        "- **Non-significant columns (p ≥ 0.05):** Weak or no association with PremiumPrice.  \n",
        "  Examples: `Height`, `Height_m`, `Height_bin`  \n",
        "\n",
        "✅ Recommendation: Focus on **significant columns** for modeling or further analysis."
      ],
      "metadata": {
        "id": "G1YbDANfsh0M"
      }
    },
    {
      "cell_type": "code",
      "source": [
        "\n",
        "# Correlation matrix (sirf numeric columns ke liye)\n",
        "numeric_cols = df.select_dtypes(include=['int64', 'float64']).columns\n",
        "corr = df[numeric_cols].corr()\n",
        "\n",
        "plt.figure(figsize=(12,8))\n",
        "sns.heatmap(corr, annot=True, fmt=\".2f\", cmap=\"coolwarm\", cbar=True)\n",
        "plt.title('Correlation Heatmap of Numeric Features')\n",
        "plt.show()\n"
      ],
      "metadata": {
        "colab": {
          "base_uri": "https://localhost:8080/",
          "height": 857
        },
        "id": "wzhDsmGWsILm",
        "outputId": "772ace85-0591-4293-da6c-b6c7a9f6934a"
      },
      "execution_count": 32,
      "outputs": [
        {
          "output_type": "display_data",
          "data": {
            "text/plain": [
              "<Figure size 1200x800 with 2 Axes>"
            ],
            "image/png": "[encoded data removed]"
          },
          "metadata": {}
        }
      ]
    },
    {
      "cell_type": "code",
      "source": [
        "numeric_cols = df.select_dtypes(include=['int64','float64']).columns\n",
        "\n",
        "# Correlation matrix\n",
        "corr_matrix = df[numeric_cols].corr()\n",
        "\n",
        "# PremiumPrice ke saath correlation values\n",
        "corr_with_target = corr_matrix['PremiumPrice'].sort_values(ascending=False)\n",
        "print(corr_with_target)\n"
      ],
      "metadata": {
        "colab": {
          "base_uri": "https://localhost:8080/"
        },
        "id": "lAyeJoAws3yJ",
        "outputId": "0fd2ab97-c5c1-4ea3-b3a6-456670a34593"
      },
      "execution_count": 33,
      "outputs": [
        {
          "output_type": "stream",
          "name": "stdout",
          "text": [
            "PremiumPrice               1.000000\n",
            "Age                        0.697540\n",
            "AnyTransplants             0.289056\n",
            "NumberOfMajorSurgeries     0.264250\n",
            "ill                        0.244220\n",
            "AnyChronicDiseases         0.208610\n",
            "BloodPressureProblems      0.167097\n",
            "Weight                     0.141507\n",
            "BMI                        0.103812\n",
            "HistoryOfCancerInFamily    0.083139\n",
            "Diabetes                   0.076209\n",
            "Height_m                   0.026910\n",
            "Height                     0.026910\n",
            "KnownAllergies             0.012103\n",
            "Name: PremiumPrice, dtype: float64\n"
          ]
        }
      ]
    },
    {
      "cell_type": "markdown",
      "source": [
        "`🔹 Interpretation`\n",
        "\n",
        "- **Strong positive correlation:**  \n",
        "  - `Age` (0.6975) → PremiumPrice strongly increases with age.  \n",
        "\n",
        "- **Moderate correlation:**  \n",
        "  - `AnyTransplants`, `NumberOfMajorSurgeries`, `ill` → moderately associated with PremiumPrice.  \n",
        "\n",
        "- **Weak correlation:**  \n",
        "  - `BMI`, `Weight`, `HistoryOfCancerInFamily`, `Diabetes`, `BloodPressureProblems` → slight effect.  \n",
        "\n",
        "- **Negligible correlation:**  \n",
        "  - `Height`, `Height_m`, `KnownAllergies` → very little effect on PremiumPrice.  \n",
        "\n",
        "✅ Recommendation: Modeling / analysis should **focus on high and moderate correlation features** like `Age`, `AnyTransplants`, `NumberOfMajorSurgeries`, `ill`."
      ],
      "metadata": {
        "id": "36reVRYXtFnA"
      }
    },
    {
      "cell_type": "markdown",
      "source": [
        "# Feature Selection"
      ],
      "metadata": {
        "id": "Tv84-H7iBwKs"
      }
    },
    {
      "cell_type": "code",
      "source": [
        "df.info()"
      ],
      "metadata": {
        "colab": {
          "base_uri": "https://localhost:8080/"
        },
        "id": "bi5iFdRvxSDV",
        "outputId": "efd1d806-2199-4dbf-ec72-04aef9180601"
      },
      "execution_count": 34,
      "outputs": [
        {
          "output_type": "stream",
          "name": "stdout",
          "text": [
            "<class 'pandas.core.frame.DataFrame'>\n",
            "RangeIndex: 986 entries, 0 to 985\n",
            "Data columns (total 19 columns):\n",
            " #   Column                   Non-Null Count  Dtype   \n",
            "---  ------                   --------------  -----   \n",
            " 0   Age                      986 non-null    int64   \n",
            " 1   Diabetes                 986 non-null    int64   \n",
            " 2   BloodPressureProblems    986 non-null    int64   \n",
            " 3   AnyTransplants           986 non-null    int64   \n",
            " 4   AnyChronicDiseases       986 non-null    int64   \n",
            " 5   Height                   986 non-null    int64   \n",
            " 6   Weight                   986 non-null    int64   \n",
            " 7   KnownAllergies           986 non-null    int64   \n",
            " 8   HistoryOfCancerInFamily  986 non-null    int64   \n",
            " 9   NumberOfMajorSurgeries   986 non-null    int64   \n",
            " 10  PremiumPrice             986 non-null    int64   \n",
            " 11  Age_bin                  986 non-null    category\n",
            " 12  Height_bin               986 non-null    category\n",
            " 13  Weight_bin               986 non-null    category\n",
            " 14  Premium_bin              784 non-null    category\n",
            " 15  ill                      986 non-null    int64   \n",
            " 16  Height_m                 986 non-null    float64 \n",
            " 17  BMI                      986 non-null    float64 \n",
            " 18  BMI_category             986 non-null    object  \n",
            "dtypes: category(4), float64(2), int64(12), object(1)\n",
            "memory usage: 120.5+ KB\n"
          ]
        }
      ]
    },
    {
      "cell_type": "code",
      "source": [
        "df=df.drop(columns=['Height','Weight','Height_m','Height_bin','Weight_bin'])"
      ],
      "metadata": {
        "id": "I7TMxgkf0SX_"
      },
      "execution_count": 35,
      "outputs": []
    },
    {
      "cell_type": "code",
      "source": [
        "df.info()"
      ],
      "metadata": {
        "colab": {
          "base_uri": "https://localhost:8080/"
        },
        "id": "ZpTOXKEB0zsO",
        "outputId": "5a85934d-c988-4fa9-e44d-711ad81e601a"
      },
      "execution_count": 36,
      "outputs": [
        {
          "output_type": "stream",
          "name": "stdout",
          "text": [
            "<class 'pandas.core.frame.DataFrame'>\n",
            "RangeIndex: 986 entries, 0 to 985\n",
            "Data columns (total 14 columns):\n",
            " #   Column                   Non-Null Count  Dtype   \n",
            "---  ------                   --------------  -----   \n",
            " 0   Age                      986 non-null    int64   \n",
            " 1   Diabetes                 986 non-null    int64   \n",
            " 2   BloodPressureProblems    986 non-null    int64   \n",
            " 3   AnyTransplants           986 non-null    int64   \n",
            " 4   AnyChronicDiseases       986 non-null    int64   \n",
            " 5   KnownAllergies           986 non-null    int64   \n",
            " 6   HistoryOfCancerInFamily  986 non-null    int64   \n",
            " 7   NumberOfMajorSurgeries   986 non-null    int64   \n",
            " 8   PremiumPrice             986 non-null    int64   \n",
            " 9   Age_bin                  986 non-null    category\n",
            " 10  Premium_bin              784 non-null    category\n",
            " 11  ill                      986 non-null    int64   \n",
            " 12  BMI                      986 non-null    float64 \n",
            " 13  BMI_category             986 non-null    object  \n",
            "dtypes: category(2), float64(1), int64(10), object(1)\n",
            "memory usage: 94.9+ KB\n"
          ]
        }
      ]
    },
    {
      "cell_type": "markdown",
      "source": [
        "#### Making Health score"
      ],
      "metadata": {
        "id": "ol6oyPY2vaZR"
      }
    },
    {
      "cell_type": "code",
      "source": [
        "\n",
        "df[\"HealthScore\"] = (\n",
        "    (100 - df[\"Age\"] * 0.2) +\n",
        "    (100 - df[\"Diabetes\"] * 20) +\n",
        "    (100 - df[\"BloodPressureProblems\"] * 15) +\n",
        "    (100 - df[\"AnyTransplants\"] * 30) +\n",
        "    (100 - df[\"AnyChronicDiseases\"] * 25) +\n",
        "    (100 - df[\"KnownAllergies\"] * 10) +\n",
        "    (100 - df[\"HistoryOfCancerInFamily\"] * 20) +\n",
        "    (100 - df[\"NumberOfMajorSurgeries\"] * 10)\n",
        ") / 8\n",
        "df[\"HealthScore\"] = df[\"HealthScore\"].clip(0, 100).round(2)\n",
        "\n",
        "print(df[[\"Age\", \"Diabetes\", \"BloodPressureProblems\", \"HealthScore\"]].head())"
      ],
      "metadata": {
        "colab": {
          "base_uri": "https://localhost:8080/"
        },
        "id": "9-zIeB1Fxg8k",
        "outputId": "0b01c440-8fe9-47a5-b440-c44813ad419c"
      },
      "execution_count": 37,
      "outputs": [
        {
          "output_type": "stream",
          "name": "stdout",
          "text": [
            "   Age  Diabetes  BloodPressureProblems  HealthScore\n",
            "0   45         0                      0        98.88\n",
            "1   60         1                      0        96.00\n",
            "2   36         1                      1        93.48\n",
            "3   52         1                      1        88.70\n",
            "4   38         0                      0        94.68\n"
          ]
        }
      ]
    },
    {
      "cell_type": "code",
      "source": [
        "df.info()"
      ],
      "metadata": {
        "colab": {
          "base_uri": "https://localhost:8080/"
        },
        "id": "UorCwtYEas5g",
        "outputId": "fe69aa0f-5fd3-40b3-f5da-bd95b68fdc7f"
      },
      "execution_count": 38,
      "outputs": [
        {
          "output_type": "stream",
          "name": "stdout",
          "text": [
            "<class 'pandas.core.frame.DataFrame'>\n",
            "RangeIndex: 986 entries, 0 to 985\n",
            "Data columns (total 15 columns):\n",
            " #   Column                   Non-Null Count  Dtype   \n",
            "---  ------                   --------------  -----   \n",
            " 0   Age                      986 non-null    int64   \n",
            " 1   Diabetes                 986 non-null    int64   \n",
            " 2   BloodPressureProblems    986 non-null    int64   \n",
            " 3   AnyTransplants           986 non-null    int64   \n",
            " 4   AnyChronicDiseases       986 non-null    int64   \n",
            " 5   KnownAllergies           986 non-null    int64   \n",
            " 6   HistoryOfCancerInFamily  986 non-null    int64   \n",
            " 7   NumberOfMajorSurgeries   986 non-null    int64   \n",
            " 8   PremiumPrice             986 non-null    int64   \n",
            " 9   Age_bin                  986 non-null    category\n",
            " 10  Premium_bin              784 non-null    category\n",
            " 11  ill                      986 non-null    int64   \n",
            " 12  BMI                      986 non-null    float64 \n",
            " 13  BMI_category             986 non-null    object  \n",
            " 14  HealthScore              986 non-null    float64 \n",
            "dtypes: category(2), float64(2), int64(10), object(1)\n",
            "memory usage: 102.6+ KB\n"
          ]
        }
      ]
    },
    {
      "cell_type": "code",
      "source": [
        "# Remove bin columns if present\n",
        "df = df.drop(columns=['Age_bin', 'Premium_bin', 'BMI_category','ill'])"
      ],
      "metadata": {
        "id": "viswmNpmvnfn"
      },
      "execution_count": 39,
      "outputs": []
    },
    {
      "cell_type": "markdown",
      "source": [
        "# Models Testing"
      ],
      "metadata": {
        "id": "xhoJBf203roo"
      }
    },
    {
      "cell_type": "markdown",
      "source": [
        "## Linear Regression"
      ],
      "metadata": {
        "id": "8Giv7NKSalvw"
      }
    },
    {
      "cell_type": "code",
      "source": [
        "from sklearn.model_selection import train_test_split\n",
        "from sklearn.linear_model import LinearRegression\n",
        "from sklearn.metrics import r2_score,mean_squared_error\n",
        "import numpy as np\n",
        "\n",
        "# Independent Variables and Removing The Unnessary Columns\n",
        "X=df.drop(columns=['PremiumPrice','HealthScore'])\n",
        "y=df['PremiumPrice']\n",
        "\n",
        "# Train Test Split\n",
        "X_train,X_test,y_train,y_test=train_test_split(X,y,test_size=0.2,random_state=42)\n",
        "\n",
        "#Linear Regression\n",
        "lr=LinearRegression()\n",
        "lr.fit(X_train,y_train)\n",
        "\n",
        "# Predictions\n",
        "y_pred=lr.predict(X_test)\n",
        "\n",
        "# Metrics\n",
        "r2 = r2_score(y_test,y_pred)\n",
        "rmse = np.sqrt(mean_squared_error(y_test,y_pred))\n",
        "\n",
        "print('R^2 Score:',r2)\n",
        "print('RMSE:',rmse)"
      ],
      "metadata": {
        "colab": {
          "base_uri": "https://localhost:8080/"
        },
        "id": "L7CtaaRtw7Ck",
        "outputId": "0fa18431-be52-404c-e0e9-529f2d4ac156"
      },
      "execution_count": 40,
      "outputs": [
        {
          "output_type": "stream",
          "name": "stdout",
          "text": [
            "R^2 Score: 0.7078372148822082\n",
            "RMSE: 3529.6794110790606\n"
          ]
        }
      ]
    },
    {
      "cell_type": "markdown",
      "source": [
        "`Model Performance`\n",
        "\n",
        "1. R² Score: 0.7078372148822082\n",
        "2. RMSE: 3529.6794110790606\n",
        "\n",
        "`Interpretation`:\n",
        "- The model explains approximately 70.8% of the variance in the target variable.\n",
        "- The average prediction error is around 3529.68 units, indicating the typical deviation between predicted and actual insurance premiums.\n"
      ],
      "metadata": {
        "id": "0Z_Fwpa5BHGE"
      }
    },
    {
      "cell_type": "code",
      "source": [
        "# Feature importance using coefficients\n",
        "coefficients = pd.DataFrame({\n",
        "    'Feature': X.columns,\n",
        "    'Coefficient': lr.coef_\n",
        "}).sort_values(by='Coefficient', ascending=False)\n",
        "\n",
        "print(coefficients)\n",
        "\n",
        "# Plot feature importance\n",
        "plt.figure(figsize=(10,6))\n",
        "sns.barplot(data=coefficients, x='Coefficient', y='Feature', palette='viridis')\n",
        "plt.title('Linear Regression Feature Importance')\n",
        "plt.show()"
      ],
      "metadata": {
        "colab": {
          "base_uri": "https://localhost:8080/",
          "height": 844
        },
        "id": "v17g0WKoEk7P",
        "outputId": "5999d329-d974-4da3-a29e-1c637ef005c8"
      },
      "execution_count": 41,
      "outputs": [
        {
          "output_type": "stream",
          "name": "stdout",
          "text": [
            "                   Feature  Coefficient\n",
            "3           AnyTransplants  7410.505579\n",
            "4       AnyChronicDiseases  2560.183882\n",
            "6  HistoryOfCancerInFamily  2128.597159\n",
            "0                      Age   325.528143\n",
            "5           KnownAllergies   167.605685\n",
            "8                      BMI   141.854284\n",
            "2    BloodPressureProblems    83.293983\n",
            "1                 Diabetes  -365.234855\n",
            "7   NumberOfMajorSurgeries  -659.548809\n"
          ]
        },
        {
          "output_type": "stream",
          "name": "stderr",
          "text": [
            "/tmp/ipython-input-77952667.py:11: FutureWarning: \n",
            "\n",
            "Passing `palette` without assigning `hue` is deprecated and will be removed in v0.14.0. Assign the `y` variable to `hue` and set `legend=False` for the same effect.\n",
            "\n",
            "  sns.barplot(data=coefficients, x='Coefficient', y='Feature', palette='viridis')\n"
          ]
        },
        {
          "output_type": "display_data",
          "data": {
            "text/plain": [
              "<Figure size 1000x600 with 1 Axes>"
            ],
            "image/png": "[encoded data removed]"
          },
          "metadata": {}
        }
      ]
    },
    {
      "cell_type": "markdown",
      "source": [
        "`Conclusion`\n",
        "\n",
        "- The Linear Regression model identifies key factors influencing health insurance premiums.\n",
        "- **Major positive contributors**:\n",
        "  - **AnyTransplants**: largest impact on premium.\n",
        "  - **AnyChronicDiseases** and **HistoryOfCancerInFamily**: significant effect on increasing premiums.\n",
        "  - **Age, KnownAllergies, BMI**: moderate positive influence.\n",
        "- **Negative contributors**:\n",
        "  - **Diabetes** and **NumberOfMajorSurgeries**: slightly reduce the predicted premium.\n",
        "- Insurers can use these insights to understand which health conditions most strongly drive premium costs and adjust pricing or risk assessment strategies accordingly."
      ],
      "metadata": {
        "id": "GNad-yeSEK-z"
      }
    },
    {
      "cell_type": "markdown",
      "source": [
        "### Using Only Healthscore AND BMI"
      ],
      "metadata": {
        "id": "Adk6Fko2015l"
      }
    },
    {
      "cell_type": "code",
      "source": [
        "# Features and target (Linear Regression)\n",
        "X_lr = df[['HealthScore', 'BMI']]\n",
        "y_lr = df['PremiumPrice']\n",
        "\n",
        "# Train-test split\n",
        "X_train_lr, X_test_lr, y_train_lr, y_test_lr = train_test_split(\n",
        "    X_lr, y_lr, test_size=0.2, random_state=42\n",
        ")\n",
        "\n",
        "# Linear Regression model\n",
        "lr_model = LinearRegression()\n",
        "lr_model.fit(X_train_lr, y_train_lr)\n",
        "\n",
        "# Predictions\n",
        "y_pred_lr = lr_model.predict(X_test_lr)\n",
        "\n",
        "# Metrics\n",
        "r2_lr = r2_score(y_test_lr, y_pred_lr)\n",
        "rmse_lr = np.sqrt(mean_squared_error(y_test_lr, y_pred_lr))\n",
        "\n",
        "print(\"Linear Regression R^2 Score:\", r2_lr)\n",
        "print(\"Linear Regression RMSE:\", rmse_lr)"
      ],
      "metadata": {
        "colab": {
          "base_uri": "https://localhost:8080/"
        },
        "id": "gNKgMoxr07Y7",
        "outputId": "567a8f8e-0cc4-4621-c560-2a831976d73b"
      },
      "execution_count": 42,
      "outputs": [
        {
          "output_type": "stream",
          "name": "stdout",
          "text": [
            "Linear Regression R^2 Score: 0.28518983675956044\n",
            "Linear Regression RMSE: 5521.005414798027\n"
          ]
        }
      ]
    },
    {
      "cell_type": "markdown",
      "source": [
        "HealthScore is Not A Necessary Column"
      ],
      "metadata": {
        "id": "47nSsZsbAltL"
      }
    },
    {
      "cell_type": "code",
      "source": [
        "# Feature importance using coefficients\n",
        "coefficients = pd.DataFrame({\n",
        "    'Feature': X_lr.columns,\n",
        "    'Coefficient': lr_model.coef_\n",
        "}).sort_values(by='Coefficient', ascending=False)\n",
        "\n",
        "print(coefficients)\n",
        "\n",
        "# Plot feature importance\n",
        "plt.figure(figsize=(10,6))\n",
        "sns.barplot(data=coefficients, x='Coefficient', y='Feature', palette='viridis')\n",
        "plt.title('Linear Regression Feature Importance')\n",
        "plt.show()"
      ],
      "metadata": {
        "colab": {
          "base_uri": "https://localhost:8080/",
          "height": 723
        },
        "id": "3qZDjqSlFaei",
        "outputId": "13b3e108-f1f3-43be-fbd4-e70c945eefe8"
      },
      "execution_count": 43,
      "outputs": [
        {
          "output_type": "stream",
          "name": "stdout",
          "text": [
            "       Feature  Coefficient\n",
            "1          BMI   107.797429\n",
            "0  HealthScore  -949.775974\n"
          ]
        },
        {
          "output_type": "stream",
          "name": "stderr",
          "text": [
            "/tmp/ipython-input-13701179.py:11: FutureWarning: \n",
            "\n",
            "Passing `palette` without assigning `hue` is deprecated and will be removed in v0.14.0. Assign the `y` variable to `hue` and set `legend=False` for the same effect.\n",
            "\n",
            "  sns.barplot(data=coefficients, x='Coefficient', y='Feature', palette='viridis')\n"
          ]
        },
        {
          "output_type": "display_data",
          "data": {
            "text/plain": [
              "<Figure size 1000x600 with 1 Axes>"
            ],
            "image/png": "[encoded data removed]"
          },
          "metadata": {}
        }
      ]
    },
    {
      "cell_type": "markdown",
      "source": [
        "`Conclusion`\n",
        "\n",
        "- Using only **HealthScore** and **BMI** as features, the model can still capture key drivers of insurance premiums.\n",
        "- **HealthScore** is the dominant factor: higher HealthScore strongly reduces predicted premiums, reflecting better overall health.\n",
        "- **BMI** has a minor positive impact, indicating slightly higher premiums for higher BMI values.\n",
        "- This simplified model demonstrates that insurers can effectively predict premiums using just a composite health metric and BMI, reducing complexity while maintaining interpretability."
      ],
      "metadata": {
        "id": "J2pd5pHJFaQy"
      }
    },
    {
      "cell_type": "markdown",
      "source": [
        "# Randomn Forest"
      ],
      "metadata": {
        "id": "XXACPk0c1ZGa"
      }
    },
    {
      "cell_type": "code",
      "source": [
        "from sklearn.ensemble import RandomForestRegressor\n",
        "\n",
        "# Indepent variables and droping not necessary columns\n",
        "X_rf=df.drop(columns=['PremiumPrice','HealthScore'])\n",
        "\n",
        "# dependent variable\n",
        "y_rf=df['PremiumPrice']\n",
        "\n",
        "# Train Test Split\n",
        "X_train_rf,X_test_rf,y_train_rf,y_test_rf=train_test_split(X_rf,y_rf,test_size=0.2,random_state=42)\n",
        "\n",
        "# Model\n",
        "rf=RandomForestRegressor()\n",
        "\n",
        "# Fit Model\n",
        "rf.fit(X_train_rf,y_train_rf)\n",
        "\n",
        "# Predictions\n",
        "y_pred_rf=rf.predict(X_test_rf)\n",
        "\n",
        "#Metrics\n",
        "r2_rf=r2_score(y_test_rf,y_pred_rf)\n",
        "rmse_rf=np.sqrt(mean_squared_error(y_test_rf,y_pred_rf))\n",
        "print('R^2:',r2_rf)\n",
        "print('RMSE:',rmse)"
      ],
      "metadata": {
        "colab": {
          "base_uri": "https://localhost:8080/"
        },
        "id": "ttyqTMys1cPr",
        "outputId": "17eaf220-6b68-4ce8-fe87-0abe6fabe5e8"
      },
      "execution_count": 44,
      "outputs": [
        {
          "output_type": "stream",
          "name": "stdout",
          "text": [
            "R^2: 0.8564774774968775\n",
            "RMSE: 3529.6794110790606\n"
          ]
        }
      ]
    },
    {
      "cell_type": "markdown",
      "source": [
        "`Model Performance`\n",
        "\n",
        "1. R² Score: 0.8573732320513373\n",
        "2. RMSE: 3529.6794110790606\n",
        "\n",
        "`Interpretation`:\n",
        "- The model explains approximately 85.7% of the variance in the target variable.\n",
        "- The average prediction error is around 3529.68 units, indicating the typical deviation between predicted and actual insurance premiums.\n"
      ],
      "metadata": {
        "id": "7PhRuC5YCLct"
      }
    },
    {
      "cell_type": "markdown",
      "source": [
        "Model Feature Importance"
      ],
      "metadata": {
        "id": "s_4gdbOvAHEp"
      }
    },
    {
      "cell_type": "code",
      "source": [
        "# Feature importance\n",
        "feature_importance = pd.DataFrame({\n",
        "    'Feature': X_rf.columns,\n",
        "    'Importance': rf.feature_importances_\n",
        "}).sort_values(by='Importance', ascending=False)\n",
        "\n",
        "print(feature_importance)\n",
        "\n",
        "# Plot feature importance\n",
        "plt.figure(figsize=(10,6))\n",
        "sns.barplot(data=feature_importance, x='Importance', y='Feature', palette='viridis')\n",
        "plt.title('Random Forest Feature Importance')\n",
        "plt.show()"
      ],
      "metadata": {
        "colab": {
          "base_uri": "https://localhost:8080/",
          "height": 844
        },
        "id": "FS8DKz5u_b46",
        "outputId": "1d29139e-92a1-4f57-86d8-322b2f5fee47"
      },
      "execution_count": 45,
      "outputs": [
        {
          "output_type": "stream",
          "name": "stdout",
          "text": [
            "                   Feature  Importance\n",
            "0                      Age    0.629386\n",
            "8                      BMI    0.148945\n",
            "3           AnyTransplants    0.098554\n",
            "4       AnyChronicDiseases    0.040619\n",
            "7   NumberOfMajorSurgeries    0.031447\n",
            "6  HistoryOfCancerInFamily    0.024910\n",
            "2    BloodPressureProblems    0.010554\n",
            "1                 Diabetes    0.010227\n",
            "5           KnownAllergies    0.005359\n"
          ]
        },
        {
          "output_type": "stream",
          "name": "stderr",
          "text": [
            "/tmp/ipython-input-1324550952.py:11: FutureWarning: \n",
            "\n",
            "Passing `palette` without assigning `hue` is deprecated and will be removed in v0.14.0. Assign the `y` variable to `hue` and set `legend=False` for the same effect.\n",
            "\n",
            "  sns.barplot(data=feature_importance, x='Importance', y='Feature', palette='viridis')\n"
          ]
        },
        {
          "output_type": "display_data",
          "data": {
            "text/plain": [
              "<Figure size 1000x600 with 1 Axes>"
            ],
            "image/png": "[encoded data removed]"
          },
          "metadata": {}
        }
      ]
    },
    {
      "cell_type": "markdown",
      "source": [
        "`Insights`:\n",
        "\n",
        "1.  Age is by far the most important predictor → premium is highly influenced by age.\n",
        "2.  BMI is next → body mass affects health risk and thus premium.\n",
        "3.  Transplants, chronic diseases, surgeries, cancer history → moderate influence.\n",
        "4.  Blood pressure, diabetes, allergies → minimal influence individually.\n",
        "\n",
        "`✅ Conclusion`:\n",
        "\n",
        "- Insurers should pay most attention to Age and BMI while predicting premiums.\n",
        "- Other health conditions still contribute but less heavily."
      ],
      "metadata": {
        "id": "hpeNdWicChJ2"
      }
    },
    {
      "cell_type": "markdown",
      "source": [
        "#XGBoost"
      ],
      "metadata": {
        "id": "cskqUz486F73"
      }
    },
    {
      "cell_type": "code",
      "source": [
        "from xgboost import XGBRegressor\n",
        "\n",
        "xgb_X=df.drop(columns=['PremiumPrice','HealthScore'])\n",
        "xgb_y=df['PremiumPrice']\n",
        "\n",
        "X_train_xgb,X_test_xgb,y_train_xgb,y_test_xgb=train_test_split(xgb_X,xgb_y,test_size=0.2,random_state=42)\n",
        "\n",
        "xgb=XGBRegressor(\n",
        "     n_estimators=500,\n",
        "    learning_rate=0.05,\n",
        "    max_depth=5,\n",
        "    random_state=42\n",
        ")\n",
        "\n",
        "xgb.fit(X_train_xgb,y_train_xgb)\n",
        "\n",
        "predictions=xgb.predict(X_test_xgb)\n",
        "\n",
        "r2_xgb=r2_score(y_test_xgb,predictions)\n",
        "rmse_xgb=np.sqrt(mean_squared_error(y_test,predictions))\n",
        "print('R^2:',r2_xgb)\n",
        "print(\"RMSE:\",rmse_xgb)"
      ],
      "metadata": {
        "colab": {
          "base_uri": "https://localhost:8080/"
        },
        "id": "0_JwCm7t2Fvr",
        "outputId": "4eee6ac6-a63e-47af-a18a-7fea81bcefb4"
      },
      "execution_count": 46,
      "outputs": [
        {
          "output_type": "stream",
          "name": "stdout",
          "text": [
            "R^2: 0.8459382057189941\n",
            "RMSE: 2563.127971834415\n"
          ]
        }
      ]
    },
    {
      "cell_type": "markdown",
      "source": [
        "`Model Performance`\n",
        "\n",
        "1. R² Score: 0.8407983183860779\n",
        "2. RMSE: 2605.5333427150763\n",
        "\n",
        "`Interpretation`:\n",
        "- The model explains approximately 84.1% of the variance in the target variable.\n",
        "- The average prediction error is around 2605.53 units, indicating the typical deviation between predicted and actual insurance premiums.\n"
      ],
      "metadata": {
        "id": "t3RGSCqwDMD2"
      }
    },
    {
      "cell_type": "code",
      "source": [
        "# Feature importance\n",
        "feature_importance = pd.DataFrame({\n",
        "    'Feature': xgb_X.columns,\n",
        "    'Importance': xgb.feature_importances_\n",
        "}).sort_values(by='Importance', ascending=False)\n",
        "\n",
        "print(feature_importance)\n",
        "\n",
        "# Plot feature importance\n",
        "plt.figure(figsize=(10,6))\n",
        "sns.barplot(data=feature_importance, x='Importance', y='Feature', palette='viridis')\n",
        "plt.title('XGBoost Feature Importance')\n",
        "plt.show()"
      ],
      "metadata": {
        "colab": {
          "base_uri": "https://localhost:8080/",
          "height": 844
        },
        "id": "MCkDCEL8DYG7",
        "outputId": "a483af4a-83b9-4abf-c95e-ad69b6083774"
      },
      "execution_count": 47,
      "outputs": [
        {
          "output_type": "stream",
          "name": "stdout",
          "text": [
            "                   Feature  Importance\n",
            "3           AnyTransplants    0.436308\n",
            "0                      Age    0.213725\n",
            "4       AnyChronicDiseases    0.115374\n",
            "6  HistoryOfCancerInFamily    0.102288\n",
            "7   NumberOfMajorSurgeries    0.048659\n",
            "8                      BMI    0.035410\n",
            "1                 Diabetes    0.018114\n",
            "5           KnownAllergies    0.017867\n",
            "2    BloodPressureProblems    0.012255\n"
          ]
        },
        {
          "output_type": "stream",
          "name": "stderr",
          "text": [
            "/tmp/ipython-input-1767007039.py:11: FutureWarning: \n",
            "\n",
            "Passing `palette` without assigning `hue` is deprecated and will be removed in v0.14.0. Assign the `y` variable to `hue` and set `legend=False` for the same effect.\n",
            "\n",
            "  sns.barplot(data=feature_importance, x='Importance', y='Feature', palette='viridis')\n"
          ]
        },
        {
          "output_type": "display_data",
          "data": {
            "text/plain": [
              "<Figure size 1000x600 with 1 Axes>"
            ],
            "image/png": "[encoded data removed]"
          },
          "metadata": {}
        }
      ]
    },
    {
      "cell_type": "markdown",
      "source": [
        "`Conclusion`\n",
        "\n",
        "- The model effectively predicts individual health insurance premiums with high accuracy (R² ~ 0.84 and RMSE ~ 2605).\n",
        "- **Key drivers of premium costs** are:\n",
        "  - **AnyTransplants**: highest impact on predicted premium.\n",
        "  - **Age**: older individuals generally incur higher premiums.\n",
        "  - **AnyChronicDiseases** and **HistoryOfCancerInFamily**: moderate impact.\n",
        "- **BMI** and **HealthScore** provide additional context but are less influential individually.\n",
        "- Less impactful factors include **Diabetes**, **BloodPressureProblems**, and **KnownAllergies**.\n",
        "- Using this model, insurers can set **more precise, individualized premiums**, improving risk management and competitive pricing.\n"
      ],
      "metadata": {
        "id": "Zy-sIhrlDXta"
      }
    },
    {
      "cell_type": "markdown",
      "source": [
        "# 🚀 Final Conclusion: Health Insurance Premium Prediction Project\n",
        "\n",
        "This project demonstrates how **machine learning** can transform traditional insurance pricing into a **personalized, data-driven approach**.\n",
        "\n",
        "### 🔑 Key Takeaways:\n",
        "- **Chosen Model**: **Random Forest Regressor**\n",
        "  - R² ≈ 0.859, RMSE ≈ 3520 → best balance between accuracy and interpretability.\n",
        "  - XGBoost also performed well (R² ≈ 0.841, RMSE ≈ 2600), but Random Forest provides robust feature importance insights.\n",
        "  \n",
        "- **Most Influential Features**:\n",
        "  - **AnyTransplants**, **Chronic Diseases**, **History of Cancer in Family**, **Age**, **BMI**, **HealthScore**.\n",
        "  - Using **HealthScore + BMI alone** still captures the majority of premium variability → simpler, interpretable model.\n",
        "\n",
        "### 💡 Implications for Insurers:\n",
        "- **Personalized Premiums**: Tailor insurance costs based on individual health profiles.\n",
        "- **Better Risk Assessment**: Identify high-risk individuals and adjust policies accordingly.\n",
        "- **Efficient Decision-Making**: Focus on the most impactful health indicators.\n",
        "\n",
        "### ✅ Conclusion:\n",
        "By leveraging **Random Forest Regression** with selected health features, insurers can:\n",
        "- Predict premiums accurately for individuals.\n",
        "- Make **data-driven decisions** rather than relying on historical averages.\n",
        "- Ensure **competitive, fair, and transparent pricing** for customers.\n",
        "\n",
        "**Overall:** Machine learning enables smarter, individualized insurance strategies that balance profitability and customer fairness.\n",
        "\n",
        "Note : **Alternative Model**: `XGBoost Regressor`\n",
        "  - R² ≈ 0.841, RMSE ≈ 2600 → slightly lower R² but better accuracy in terms of RMSE.\n",
        "  - Can be chosen if **minimizing prediction error** is the top priority, though feature interpretability is slightly reduced compared to Random Forest.\n"
      ],
      "metadata": {
        "id": "WfANJnjtGCFW"
      }
    },
    {
      "cell_type": "markdown",
      "source": [
        "Downloading Model"
      ],
      "metadata": {
        "id": "z_0f-0TFlcS3"
      }
    },
    {
      "cell_type": "code",
      "metadata": {
        "colab": {
          "base_uri": "https://localhost:8080/"
        },
        "id": "dae37046",
        "outputId": "25d2b853-df85-458c-a8be-83c7445d70b0"
      },
      "source": [
        "import pickle\n",
        "\n",
        "# Save the Random Forest model\n",
        "with open('random_forest_model.pkl', 'wb') as f:\n",
        "    pickle.dump(rf, f)\n",
        "print(\"Random Forest model saved successfully!\")\n",
        "\n",
        "# Save the XGBoost model\n",
        "with open('xgboost_model.pkl', 'wb') as f:\n",
        "    pickle.dump(xgb, f)\n",
        "print(\"XGBoost model saved successfully!\")"
      ],
      "execution_count": 48,
      "outputs": [
        {
          "output_type": "stream",
          "name": "stdout",
          "text": [
            "Random Forest model saved successfully!\n",
            "XGBoost model saved successfully!\n"
          ]
        }
      ]
    }
  ]
}